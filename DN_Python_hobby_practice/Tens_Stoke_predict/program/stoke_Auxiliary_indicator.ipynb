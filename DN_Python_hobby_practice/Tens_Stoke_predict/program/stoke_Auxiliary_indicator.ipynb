{
 "cells": [
  {
   "cell_type": "code",
   "execution_count": 1,
   "metadata": {},
   "outputs": [],
   "source": [
    "import pandas as pd\n",
    "import numpy as np\n",
    "import csv\n",
    "import glob\n",
    "import os\n",
    "from talib.abstract import *\n",
    "import talib"
   ]
  },
  {
   "cell_type": "markdown",
   "metadata": {},
   "source": [
    "# 사용 할 보조지표 (추후 추가 가능)\n",
    "\n",
    "   - ### 주의점: 보조지표는 일자별로 다르게 해야함! 한꺼번에 모든 날짜를 해버리면 안 됨\n",
    "\n",
    "\n",
    "     - BBANDS  :             Bollinger Bands\n",
    "     - ADX      :            Average Directional Movement Index\n",
    "     - RSI      :            Relative Strength Index"
   ]
  },
  {
   "cell_type": "markdown",
   "metadata": {},
   "source": [
    "## 합칠 numpy data 불러오기"
   ]
  },
  {
   "cell_type": "code",
   "execution_count": 2,
   "metadata": {},
   "outputs": [],
   "source": [
    "samsung_stoke_data_base = r'D:\\dataset\\stoke\\samsung\\data'\n",
    "samsung_stoke_label_base = r'D:\\dataset\\stoke\\samsung\\label'\n",
    "oil_data_base = r'D:\\dataset\\stoke\\oil\\data'\n",
    "oil_label_base = r'D:\\dataset\\stoke\\oil\\label'\n",
    "ex_bio_data_base = r'D:\\dataset\\stoke\\ex_bio\\data'\n",
    "ex_bio_label_base = r'D:\\dataset\\stoke\\ex_bio\\label'\n",
    "usecols = ['time', 'price', 'sell', 'buy', 'trading_volum']"
   ]
  },
  {
   "cell_type": "markdown",
   "metadata": {},
   "source": [
    "## 여러 주식 data 요소들을 하나의 numpy배열로 묶기"
   ]
  },
  {
   "cell_type": "code",
   "execution_count": 72,
   "metadata": {},
   "outputs": [],
   "source": [
    "class Data_join:\n",
    "    path = ''\n",
    "    sequence_length = 0\n",
    "    data = np.array([])\n",
    "    label = np.array([])\n",
    "    \n",
    "    #초기값 설정\n",
    "    def __init__(self, value1, value2):\n",
    "        self.sequence_length = value1\n",
    "        self.path = value2\n",
    "\n",
    "    \n",
    "    #데이터 판다스로 받음\n",
    "    def datagen(self):\n",
    "        data = pd.read_csv(base_data + self.path + '.csv')\n",
    "        open1 = data['open'].values\n",
    "        open1 = open1.astype('float32')\n",
    "        volume = data['volume'].values.astype('float32')\n",
    "        high = data['high'].values.astype('float32')\n",
    "        low = data['low'].values.astype('float32')\n",
    "        close = data['close'].values.astype('float32') \n",
    "        time = data['when'].values\n",
    "     \n",
    "    #보조지표 만들기\n",
    "    def auxiliary(self):\n",
    "        inputs = {\n",
    "            'open': self.open1.astype('double'),\n",
    "            'high': self.high.astype('double'),\n",
    "            'low' : self.low.astype('double'),\n",
    "            'close': self.close.values.astype('double'),\n",
    "            'volume': self.volume.astype('double')\n",
    "        }\n",
    "        #날짜가 다르면 끊고 보조지표를 다시 만듦\n",
    "        for k in range(len(self.time)):\n",
    "            if self.time[k][:8] != self.time[k+1][:8]:\n",
    "                \n",
    "        \n",
    "        #데이터 정규화\n",
    "        #open\n",
    "        mean_open = open1.mean(axis =0)\n",
    "        open1 -= mean_open\n",
    "        std_open = open1.std(axis = 0)\n",
    "        open1 /= std_open\n",
    "        #volumn\n",
    "        mean_volumn = volumn.mean(axis = 0)\n",
    "        volumn -= mean_volumn\n",
    "        std_volumn = volumn.std(axis = 0)\n",
    "        volumn /= std_volumn\n",
    "        #high\n",
    "        mean_high = high.mean(axis = 0)\n",
    "        high -= mean_high\n",
    "        std_high = high.std(axis = 0)\n",
    "        high /= std_high\n",
    "        #close\n",
    "        mean_close = close.mean(axis = 0)\n",
    "        close -= mean_close\n",
    "        std_close = close.std(axis = 0)\n",
    "        close /= std_close\n",
    "        #low\n",
    "        mean_low = low.mean(axis = 0)\n",
    "        low -= mean_low\n",
    "        std_low = low.std(axis = 0)\n",
    "        low /= std_low\n",
    "        \n",
    "        #두 데이터 합치기\n",
    "        open1 = open1[:, np.newaxis]\n",
    "        volumn = volumn[:, np.newaxis]\n",
    "        high = high[:, np.newaxis]\n",
    "        close = close[:, np.newaxis]\n",
    "        low = low[:, np.newaxis]\n",
    "        real_data = np.concatenate((open1, close, high, low, volumn), axis = 1)\n",
    "        \n",
    "        #window 만들기  \n",
    "        result = []\n",
    "        for index in range(len(real_data) - self.sequence_length):\n",
    "            result.append(real_data[index: index + self.sequence_length])\n",
    "        \n",
    "        new_data = np.array(result)\n",
    "        #new_data = new_data[:, :, :, np.newaxis]\n",
    "        self.data = new_data\n",
    "        del result\n",
    "\n",
    "    def labelgen(self):\n",
    "        label = np.load(base_label + self.path+'.npy')\n",
    "        label = label[self.sequence_length - 1:]\n",
    "        self.label = label"
   ]
  },
  {
   "cell_type": "code",
   "execution_count": 8,
   "metadata": {},
   "outputs": [],
   "source": [
    "data = pd.read_csv( r'D:\\dataset\\stoke\\new_total\\data'+ '\\\\samsung.csv')"
   ]
  },
  {
   "cell_type": "code",
   "execution_count": 10,
   "metadata": {},
   "outputs": [],
   "source": [
    "time = data['when'].values"
   ]
  },
  {
   "cell_type": "code",
   "execution_count": 25,
   "metadata": {},
   "outputs": [
    {
     "name": "stdout",
     "output_type": "stream",
     "text": [
      "a\n",
      "a\n",
      "a\n",
      "a\n",
      "a\n",
      "a\n",
      "a\n"
     ]
    }
   ],
   "source": [
    "for k in range(len(time) - 1):\n",
    "    if time[k][:8] != time[k+1][:8]:\n",
    "        print('a')"
   ]
  },
  {
   "cell_type": "code",
   "execution_count": 20,
   "metadata": {},
   "outputs": [
    {
     "data": {
      "text/plain": [
       "False"
      ]
     },
     "execution_count": 20,
     "metadata": {},
     "output_type": "execute_result"
    }
   ],
   "source": [
    "time[0][:8] == time[200][:8] "
   ]
  },
  {
   "cell_type": "code",
   "execution_count": 13,
   "metadata": {},
   "outputs": [
    {
     "name": "stdout",
     "output_type": "stream",
     "text": [
      "               when   open   high    low  close   volume\n",
      "0     20201102 1213  56900  56900  56800  56900     5655\n",
      "1     20201102 1214  56900  57000  56800  57000    82444\n",
      "2     20201102 1215  56900  57000  56900  57000     4728\n",
      "3     20201102 1216  57000  57000  56900  57000     8625\n",
      "4     20201102 1217  57000  57000  56900  56900     5476\n",
      "...             ...    ...    ...    ...    ...      ...\n",
      "2851  20201111 1517  61100  61200  61100  61200   179123\n",
      "2852  20201111 1518  61100  61200  61100  61100    81822\n",
      "2853  20201111 1519  61100  61200  61100  61100    76017\n",
      "2854  20201111 1520  61100  61300  61100  61200    54864\n",
      "2855  20201111 1530  61300  61300  61300  61300  1251652\n",
      "\n",
      "[2856 rows x 6 columns]\n"
     ]
    }
   ],
   "source": [
    "print(data)"
   ]
  },
  {
   "cell_type": "code",
   "execution_count": 40,
   "metadata": {},
   "outputs": [],
   "source": [
    "data_df = pd.read_csv( r'D:\\dataset\\stoke\\new_total\\data'+ '\\\\samsung.csv')"
   ]
  },
  {
   "cell_type": "code",
   "execution_count": 42,
   "metadata": {},
   "outputs": [],
   "source": [
    "inputs = {\n",
    "    'open': data_df['open'].values.astype('double'),\n",
    "    'high': data_df['high'].values.astype('double'),\n",
    "    'low' : data_df['low'].values.astype('double'),\n",
    "    'close': data_df['close'].values.astype('double'),\n",
    "    'volume': data_df['volume'].values.astype('double')\n",
    "}"
   ]
  },
  {
   "cell_type": "code",
   "execution_count": 43,
   "metadata": {},
   "outputs": [
    {
     "data": {
      "text/plain": [
       "{'open': array([56900., 56900., 56900., ..., 61100., 61100., 61300.]),\n",
       " 'high': array([56900., 57000., 57000., ..., 61200., 61300., 61300.]),\n",
       " 'low': array([56800., 56800., 56900., ..., 61100., 61100., 61300.]),\n",
       " 'close': array([56900., 57000., 57000., ..., 61100., 61200., 61300.]),\n",
       " 'volume': array([   5655.,   82444.,    4728., ...,   76017.,   54864., 1251652.])}"
      ]
     },
     "execution_count": 43,
     "metadata": {},
     "output_type": "execute_result"
    }
   ],
   "source": [
    "inputs"
   ]
  },
  {
   "cell_type": "code",
   "execution_count": 44,
   "metadata": {},
   "outputs": [],
   "source": [
    "SMA = SMA(inputs, timeperiod=5)"
   ]
  },
  {
   "cell_type": "code",
   "execution_count": 49,
   "metadata": {},
   "outputs": [
    {
     "data": {
      "text/plain": [
       "2852"
      ]
     },
     "execution_count": 49,
     "metadata": {},
     "output_type": "execute_result"
    }
   ],
   "source": [
    "len(SMA[4:])"
   ]
  },
  {
   "cell_type": "code",
   "execution_count": 46,
   "metadata": {},
   "outputs": [],
   "source": [
    "RSI = RSI(inputs, timeperiod = 5)"
   ]
  },
  {
   "cell_type": "code",
   "execution_count": 47,
   "metadata": {},
   "outputs": [
    {
     "data": {
      "text/plain": [
       "2856"
      ]
     },
     "execution_count": 47,
     "metadata": {},
     "output_type": "execute_result"
    }
   ],
   "source": [
    "len(RSI)"
   ]
  },
  {
   "cell_type": "code",
   "execution_count": 53,
   "metadata": {},
   "outputs": [],
   "source": [
    "ADX = ADX(inputs, timeperiod = 5)"
   ]
  },
  {
   "cell_type": "code",
   "execution_count": 54,
   "metadata": {},
   "outputs": [],
   "source": [
    "BBANDS = BBANDS(inputs, timeperiod = 5)"
   ]
  },
  {
   "cell_type": "code",
   "execution_count": 64,
   "metadata": {},
   "outputs": [],
   "source": [
    "ADX = np.array(ADX)"
   ]
  },
  {
   "cell_type": "code",
   "execution_count": 65,
   "metadata": {},
   "outputs": [],
   "source": [
    "RSI = np.array(RSI)"
   ]
  },
  {
   "cell_type": "code",
   "execution_count": 67,
   "metadata": {},
   "outputs": [],
   "source": [
    "RSI = RSI[:, np.newaxis]\n",
    "ADX = ADX[: , np.newaxis]"
   ]
  },
  {
   "cell_type": "code",
   "execution_count": 70,
   "metadata": {},
   "outputs": [
    {
     "data": {
      "text/plain": [
       "(2851, 5, 5)"
      ]
     },
     "execution_count": 70,
     "metadata": {},
     "output_type": "execute_result"
    }
   ],
   "source": [
    "pre_data.shape"
   ]
  },
  {
   "cell_type": "markdown",
   "metadata": {},
   "source": [
    "## 기존 데이터와 보조지표 합치기"
   ]
  },
  {
   "cell_type": "code",
   "execution_count": 69,
   "metadata": {},
   "outputs": [
    {
     "ename": "ValueError",
     "evalue": "all the input arrays must have same number of dimensions, but the array at index 0 has 3 dimension(s) and the array at index 1 has 2 dimension(s)",
     "output_type": "error",
     "traceback": [
      "\u001b[1;31m---------------------------------------------------------------------------\u001b[0m",
      "\u001b[1;31mValueError\u001b[0m                                Traceback (most recent call last)",
      "\u001b[1;32m<ipython-input-69-0cd0e572ebb3>\u001b[0m in \u001b[0;36m<module>\u001b[1;34m\u001b[0m\n\u001b[1;32m----> 1\u001b[1;33m \u001b[0mpost_data\u001b[0m \u001b[1;33m=\u001b[0m \u001b[0mnp\u001b[0m\u001b[1;33m.\u001b[0m\u001b[0mconcatenate\u001b[0m\u001b[1;33m(\u001b[0m\u001b[1;33m(\u001b[0m\u001b[0mpre_data\u001b[0m\u001b[1;33m,\u001b[0m \u001b[0mRSI\u001b[0m\u001b[1;33m,\u001b[0m \u001b[0mADX\u001b[0m\u001b[1;33m)\u001b[0m\u001b[1;33m,\u001b[0m \u001b[0maxis\u001b[0m \u001b[1;33m=\u001b[0m \u001b[1;36m1\u001b[0m\u001b[1;33m)\u001b[0m\u001b[1;33m\u001b[0m\u001b[1;33m\u001b[0m\u001b[0m\n\u001b[0m",
      "\u001b[1;32m<__array_function__ internals>\u001b[0m in \u001b[0;36mconcatenate\u001b[1;34m(*args, **kwargs)\u001b[0m\n",
      "\u001b[1;31mValueError\u001b[0m: all the input arrays must have same number of dimensions, but the array at index 0 has 3 dimension(s) and the array at index 1 has 2 dimension(s)"
     ]
    }
   ],
   "source": [
    "post_data = np.concatenate((pre_data, RSI, ADX), axis = 1)"
   ]
  }
 ],
 "metadata": {
  "kernelspec": {
   "display_name": "Python 3",
   "language": "python",
   "name": "python3"
  },
  "language_info": {
   "codemirror_mode": {
    "name": "ipython",
    "version": 3
   },
   "file_extension": ".py",
   "mimetype": "text/x-python",
   "name": "python",
   "nbconvert_exporter": "python",
   "pygments_lexer": "ipython3",
   "version": "3.7.9"
  }
 },
 "nbformat": 4,
 "nbformat_minor": 4
}
