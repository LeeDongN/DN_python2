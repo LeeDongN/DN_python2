{
 "cells": [
  {
   "cell_type": "code",
   "execution_count": 1,
   "metadata": {},
   "outputs": [],
   "source": [
    "import numpy as np\n",
    "import pandas as pd\n",
    "from pandas import DataFrame\n",
    "import csv\n",
    "import glob\n",
    "import os"
   ]
  },
  {
   "cell_type": "code",
   "execution_count": 2,
   "metadata": {},
   "outputs": [
    {
     "name": "stdout",
     "output_type": "stream",
     "text": [
      "1\n"
     ]
    }
   ],
   "source": [
    "import win32com.client\n",
    "instCpCybos = win32com.client.Dispatch(\"CpUtil.CpCybos\")\n",
    "print(instCpCybos.IsConnect)"
   ]
  },
  {
   "cell_type": "code",
   "execution_count": 3,
   "metadata": {},
   "outputs": [],
   "source": [
    "samsung_stoke_data_base = r'D:\\dataset\\stoke\\samsung\\data'\n",
    "samsung_stoke_label_base = r'D:\\dataset\\stoke\\samsung\\label'\n",
    "oil_data_base = r'D:\\dataset\\stoke\\oil\\data'\n",
    "oil_label_base = r'D:\\dataset\\stoke\\oil\\label'\n",
    "ex_bio_data_base = r'D:\\dataset\\stoke\\ex_bio\\data'\n",
    "ex_bio_label_base = r'D:\\dataset\\stoke\\ex_bio\\label'\n",
    "usecols = ['time', 'price', 'sell', 'buy', 'trading_volum']"
   ]
  },
  {
   "cell_type": "markdown",
   "metadata": {},
   "source": [
    "## 종목 코드: A를 앞에 붙이면 됨"
   ]
  },
  {
   "cell_type": "markdown",
   "metadata": {},
   "source": [
    "- ### CpSvrNew7224  투자자(기관,외국인,개인 등등) 들의 일일 매매 동향데이터(매수,매도,순매수)를 요청하고 수신합니다.\n",
    "\n",
    "- ### "
   ]
  },
  {
   "cell_type": "markdown",
   "metadata": {},
   "source": [
    "## DATA를 뽑음"
   ]
  },
  {
   "cell_type": "code",
   "execution_count": 4,
   "metadata": {},
   "outputs": [],
   "source": [
    "def minute_chart(code, k, m_ToDate, m_FromDate):\n",
    "    ### k분봉 차트 DF로 저장\n",
    "    StockChart = win32com.client.Dispatch(\"CpSysDib.StockChart\")\n",
    "    StockChart.SetInputValue(0, code)\n",
    "    StockChart.SetInputValue(1, ord('1'))  #개수 입력 옵션\n",
    "    StockChart.SetInputValue(2, m_ToDate)  #시작일자\n",
    "    StockChart.SetInputValue(3, m_FromDate)  # 끝일자\n",
    "    StockChart.SetInputValue(5, (0, 1, 2, 3, 4, 5, 8)) # 날짜(0), 시간(1), 시가(2), 고가(3), 저가(4), 종가(5), 거래량(8)\n",
    "    StockChart.SetInputValue(6, ord('m')) # 분 차트\n",
    "    StockChart.SetInputValue(7, k) # k개 캔들 주기로, 즉 k분봉\n",
    "    StockChart.SetInputValue(9, ord('1')) # 수정주가 적용\n",
    "    StockChart.BlockRequest()\n",
    "    num = int(StockChart.GetHeaderValue(3))\n",
    "    df = DataFrame(np.arange(num), columns = ['index'])\n",
    "    \n",
    "    def rdt_CP(i):\n",
    "        # 인덱스에 해당하는 날짜와 시간을 CybosPlus API에서 읽어들임\n",
    "        return [StockChart.GetDataValue(0, i), StockChart.GetDataValue(1, i)]\n",
    "    \n",
    "    def cdt(date, time):\n",
    "        # 분리된 날짜와 시간을 datetime.datetime 자료형으로 변환\n",
    "        date = str(date)\n",
    "        time = str(time)\n",
    "        if len(time) == 3:\n",
    "            time = '0' + time\n",
    "        DT = date + ' ' + time\n",
    "        return (DT)\n",
    "    \n",
    "    df['when'] = df['index'].apply(lambda i : cdt(rdt_CP(num -1 -i)[0], rdt_CP(num - 1 - i )[1]))\n",
    "    df['open'] = df['index'].apply(lambda i : StockChart.GetDataValue(2, num - 1 -i))\n",
    "    df['high'] = df['index'].apply(lambda i : StockChart.GetDataValue(3, num - 1 -i))\n",
    "    df['low'] = df['index'].apply(lambda i : StockChart.GetDataValue(4, num - 1 -i))\n",
    "    df['close'] = df['index'].apply(lambda i : StockChart.GetDataValue(5, num - 1 -i))\n",
    "    df['volume'] = df['index'].apply(lambda i : StockChart.GetDataValue(6, num - 1 -i))\n",
    "    df.drop(['index'], axis = 1, inplace = True)\n",
    "    return df\n"
   ]
  },
  {
   "cell_type": "markdown",
   "metadata": {},
   "source": [
    "### samsung같은 경우는 종목 코드 앞에 A를 붙이기"
   ]
  },
  {
   "cell_type": "code",
   "execution_count": 27,
   "metadata": {},
   "outputs": [],
   "source": [
    "datas = minute_chart('Q530031', 1, '20201124', '20201012')"
   ]
  },
  {
   "cell_type": "code",
   "execution_count": 28,
   "metadata": {},
   "outputs": [
    {
     "data": {
      "text/html": [
       "<div>\n",
       "<style scoped>\n",
       "    .dataframe tbody tr th:only-of-type {\n",
       "        vertical-align: middle;\n",
       "    }\n",
       "\n",
       "    .dataframe tbody tr th {\n",
       "        vertical-align: top;\n",
       "    }\n",
       "\n",
       "    .dataframe thead th {\n",
       "        text-align: right;\n",
       "    }\n",
       "</style>\n",
       "<table border=\"1\" class=\"dataframe\">\n",
       "  <thead>\n",
       "    <tr style=\"text-align: right;\">\n",
       "      <th></th>\n",
       "      <th>when</th>\n",
       "      <th>open</th>\n",
       "      <th>high</th>\n",
       "      <th>low</th>\n",
       "      <th>close</th>\n",
       "      <th>volume</th>\n",
       "    </tr>\n",
       "  </thead>\n",
       "  <tbody>\n",
       "    <tr>\n",
       "      <th>0</th>\n",
       "      <td>20201112 1113</td>\n",
       "      <td>340</td>\n",
       "      <td>340</td>\n",
       "      <td>340</td>\n",
       "      <td>340</td>\n",
       "      <td>20</td>\n",
       "    </tr>\n",
       "    <tr>\n",
       "      <th>1</th>\n",
       "      <td>20201112 1114</td>\n",
       "      <td>340</td>\n",
       "      <td>340</td>\n",
       "      <td>340</td>\n",
       "      <td>340</td>\n",
       "      <td>327</td>\n",
       "    </tr>\n",
       "    <tr>\n",
       "      <th>2</th>\n",
       "      <td>20201112 1115</td>\n",
       "      <td>335</td>\n",
       "      <td>340</td>\n",
       "      <td>335</td>\n",
       "      <td>340</td>\n",
       "      <td>4357</td>\n",
       "    </tr>\n",
       "    <tr>\n",
       "      <th>3</th>\n",
       "      <td>20201112 1118</td>\n",
       "      <td>335</td>\n",
       "      <td>335</td>\n",
       "      <td>335</td>\n",
       "      <td>335</td>\n",
       "      <td>9426</td>\n",
       "    </tr>\n",
       "    <tr>\n",
       "      <th>4</th>\n",
       "      <td>20201112 1119</td>\n",
       "      <td>340</td>\n",
       "      <td>340</td>\n",
       "      <td>335</td>\n",
       "      <td>340</td>\n",
       "      <td>3386</td>\n",
       "    </tr>\n",
       "    <tr>\n",
       "      <th>...</th>\n",
       "      <td>...</td>\n",
       "      <td>...</td>\n",
       "      <td>...</td>\n",
       "      <td>...</td>\n",
       "      <td>...</td>\n",
       "      <td>...</td>\n",
       "    </tr>\n",
       "    <tr>\n",
       "      <th>2851</th>\n",
       "      <td>20201124 1517</td>\n",
       "      <td>365</td>\n",
       "      <td>365</td>\n",
       "      <td>365</td>\n",
       "      <td>365</td>\n",
       "      <td>57350</td>\n",
       "    </tr>\n",
       "    <tr>\n",
       "      <th>2852</th>\n",
       "      <td>20201124 1518</td>\n",
       "      <td>365</td>\n",
       "      <td>365</td>\n",
       "      <td>360</td>\n",
       "      <td>360</td>\n",
       "      <td>12258</td>\n",
       "    </tr>\n",
       "    <tr>\n",
       "      <th>2853</th>\n",
       "      <td>20201124 1519</td>\n",
       "      <td>360</td>\n",
       "      <td>365</td>\n",
       "      <td>360</td>\n",
       "      <td>365</td>\n",
       "      <td>1612</td>\n",
       "    </tr>\n",
       "    <tr>\n",
       "      <th>2854</th>\n",
       "      <td>20201124 1520</td>\n",
       "      <td>360</td>\n",
       "      <td>365</td>\n",
       "      <td>360</td>\n",
       "      <td>365</td>\n",
       "      <td>60464</td>\n",
       "    </tr>\n",
       "    <tr>\n",
       "      <th>2855</th>\n",
       "      <td>20201124 1530</td>\n",
       "      <td>365</td>\n",
       "      <td>365</td>\n",
       "      <td>365</td>\n",
       "      <td>365</td>\n",
       "      <td>186417</td>\n",
       "    </tr>\n",
       "  </tbody>\n",
       "</table>\n",
       "<p>2856 rows × 6 columns</p>\n",
       "</div>"
      ],
      "text/plain": [
       "               when  open  high  low  close  volume\n",
       "0     20201112 1113   340   340  340    340      20\n",
       "1     20201112 1114   340   340  340    340     327\n",
       "2     20201112 1115   335   340  335    340    4357\n",
       "3     20201112 1118   335   335  335    335    9426\n",
       "4     20201112 1119   340   340  335    340    3386\n",
       "...             ...   ...   ...  ...    ...     ...\n",
       "2851  20201124 1517   365   365  365    365   57350\n",
       "2852  20201124 1518   365   365  360    360   12258\n",
       "2853  20201124 1519   360   365  360    365    1612\n",
       "2854  20201124 1520   360   365  360    365   60464\n",
       "2855  20201124 1530   365   365  365    365  186417\n",
       "\n",
       "[2856 rows x 6 columns]"
      ]
     },
     "execution_count": 28,
     "metadata": {},
     "output_type": "execute_result"
    }
   ],
   "source": [
    "datas"
   ]
  },
  {
   "cell_type": "code",
   "execution_count": 29,
   "metadata": {},
   "outputs": [],
   "source": [
    "datas.to_csv(r'D:\\dataset\\stoke\\new_total\\data' + '\\\\sam_ETN_oil.csv', index=False)"
   ]
  },
  {
   "cell_type": "markdown",
   "metadata": {},
   "source": [
    "## label 뽑음"
   ]
  },
  {
   "cell_type": "code",
   "execution_count": 10,
   "metadata": {},
   "outputs": [],
   "source": [
    "data_path = r'D:\\dataset\\stoke\\new_total\\data'\n",
    "label_path = r'D:\\dataset\\stoke\\new_total\\label'"
   ]
  },
  {
   "cell_type": "code",
   "execution_count": 30,
   "metadata": {},
   "outputs": [],
   "source": [
    "data_csv= open(data_path + '\\\\sam_ETN_oil.csv')\n",
    "data = csv.reader(data_csv)\n",
    "load_data_df = pd.DataFrame(data) \n",
    "        \n",
    "tmp_label = []\n",
    "for i in load_data_df[1][1:]:\n",
    "    int_label = float(i)\n",
    "    tmp_label.append(int_label)\n",
    "del int_label\n",
    "        \n",
    "labels = []\n",
    "for i in range(1, len(tmp_label)):\n",
    "    if (tmp_label[i-1] - tmp_label[i]) > 0:\n",
    "        labels.append(2)\n",
    "    elif (tmp_label[i-1] - tmp_label[i]) == 0:\n",
    "        labels.append(0)\n",
    "    else:\n",
    "        labels.append(1)\n",
    "        \n",
    "labels = np.array(labels)\n",
    "np.save(label_path + '\\\\sam_ETN_oilchem.npy', labels)"
   ]
  }
 ],
 "metadata": {
  "kernelspec": {
   "display_name": "Python 3",
   "language": "python",
   "name": "python3"
  },
  "language_info": {
   "codemirror_mode": {
    "name": "ipython",
    "version": 3
   },
   "file_extension": ".py",
   "mimetype": "text/x-python",
   "name": "python",
   "nbconvert_exporter": "python",
   "pygments_lexer": "ipython3",
   "version": "3.7.7"
  }
 },
 "nbformat": 4,
 "nbformat_minor": 4
}
