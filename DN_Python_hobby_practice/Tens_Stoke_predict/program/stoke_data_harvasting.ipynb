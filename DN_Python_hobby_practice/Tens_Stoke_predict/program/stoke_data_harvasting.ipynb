{
 "cells": [
  {
   "cell_type": "code",
   "execution_count": 1,
   "metadata": {},
   "outputs": [],
   "source": [
    "import pandas as pd\n",
    "import numpy as np\n",
    "import csv\n",
    "import glob\n",
    "import os"
   ]
  },
  {
   "cell_type": "code",
   "execution_count": 2,
   "metadata": {},
   "outputs": [],
   "source": [
    "samsung_stoke_data_base = r'D:\\dataset\\stoke\\samsung\\data'\n",
    "samsung_stoke_label_base = r'D:\\dataset\\stoke\\samsung\\label'\n",
    "oil_data_base = r'D:\\dataset\\stoke\\oil\\data'\n",
    "oil_label_base = r'D:\\dataset\\stoke\\oil\\label'\n",
    "ex_bio_data_base = r'D:\\dataset\\stoke\\ex_bio\\data'\n",
    "ex_bio_label_base = r'D:\\dataset\\stoke\\ex_bio\\label'\n",
    "usecols = ['time', 'price', 'sell', 'buy', 'trading_volum']"
   ]
  },
  {
   "cell_type": "markdown",
   "metadata": {},
   "source": [
    "## naver에서 data를 csv파일로 가져옴\n",
    "   - chrome에서 f12눌러서 확인"
   ]
  },
  {
   "cell_type": "code",
   "execution_count": 137,
   "metadata": {},
   "outputs": [],
   "source": [
    "#/item/sise_time.nhn?code=005930&thistime=20201015134741 삼성\n",
    "#http://finance.naver.com/item/sise_time.nhn?code=950130&thistime=20201014144608 ex_bio\n",
    "# /item/sise_time.nhn?code=500019&thistime=20201027123806  oil"
   ]
  },
  {
   "cell_type": "code",
   "execution_count": 3,
   "metadata": {},
   "outputs": [],
   "source": [
    "url='http://finance.naver.com/item/sise_time.nhn?code=950130&thistime=20201102134741'\n",
    "df=pd.DataFrame()\n",
    "for page in range(1, 41):\n",
    "    pg_url = '{url}&page={page}'.format(url=url, page=page)\n",
    "    df = df.append(pd.read_html(pg_url, header=0)[0], ignore_index=True)"
   ]
  },
  {
   "cell_type": "code",
   "execution_count": 4,
   "metadata": {},
   "outputs": [],
   "source": [
    "df.rename(columns={'체결시각': 'time',\n",
    "                   '체결가': 'price',\n",
    "                   '전일비' : 'trash',\n",
    "                  '매도': 'sell',\n",
    "                  '매수': 'buy',\n",
    "                  '거래량': 'trading_volum',\n",
    "                  '변동량': 'trading_validation'},\n",
    "          \n",
    "                   inplace=True)"
   ]
  },
  {
   "cell_type": "markdown",
   "metadata": {},
   "source": [
    "##  데이터 추출\n",
    "   \n",
    "   - fillna(0)를 통해 nan값을 0으로 채워줌\n",
    "   \n",
    "   - 그 후 drop을 통해 count_list에 있는 숫자(순서)의 데이터들을 뺌\n"
   ]
  },
  {
   "cell_type": "code",
   "execution_count": 5,
   "metadata": {},
   "outputs": [],
   "source": [
    "df['price'] = df['price'].fillna(0)"
   ]
  },
  {
   "cell_type": "code",
   "execution_count": 6,
   "metadata": {},
   "outputs": [
    {
     "name": "stdout",
     "output_type": "stream",
     "text": [
      "ok\n"
     ]
    }
   ],
   "source": [
    "count = 1\n",
    "count_list = []\n",
    "\n",
    "for k in df['price']:\n",
    "    if k == 0:\n",
    "        count_list.append(count)\n",
    "    count += 1\n",
    "\n",
    "new_count = np.array(count_list)\n",
    "\n",
    "data_df = df\n",
    "data_df.drop(data_df.index[new_count - 1], inplace=True)\n",
    "print('ok')"
   ]
  },
  {
   "cell_type": "markdown",
   "metadata": {},
   "source": [
    "- # data가 시간순서의 역행하는 방행으로 있기 때문에 뒤집어줌"
   ]
  },
  {
   "cell_type": "code",
   "execution_count": 7,
   "metadata": {},
   "outputs": [],
   "source": [
    "data_df = data_df.loc[::-1]"
   ]
  },
  {
   "cell_type": "code",
   "execution_count": 8,
   "metadata": {},
   "outputs": [
    {
     "data": {
      "text/html": [
       "<div>\n",
       "<style scoped>\n",
       "    .dataframe tbody tr th:only-of-type {\n",
       "        vertical-align: middle;\n",
       "    }\n",
       "\n",
       "    .dataframe tbody tr th {\n",
       "        vertical-align: top;\n",
       "    }\n",
       "\n",
       "    .dataframe thead th {\n",
       "        text-align: right;\n",
       "    }\n",
       "</style>\n",
       "<table border=\"1\" class=\"dataframe\">\n",
       "  <thead>\n",
       "    <tr style=\"text-align: right;\">\n",
       "      <th></th>\n",
       "      <th>time</th>\n",
       "      <th>price</th>\n",
       "      <th>trash</th>\n",
       "      <th>sell</th>\n",
       "      <th>buy</th>\n",
       "      <th>trading_volum</th>\n",
       "      <th>trading_validation</th>\n",
       "    </tr>\n",
       "  </thead>\n",
       "  <tbody>\n",
       "    <tr>\n",
       "      <th>596</th>\n",
       "      <td>09:00</td>\n",
       "      <td>29000.0</td>\n",
       "      <td>400.0</td>\n",
       "      <td>29050.0</td>\n",
       "      <td>29000.0</td>\n",
       "      <td>12408.0</td>\n",
       "      <td>12408.0</td>\n",
       "    </tr>\n",
       "    <tr>\n",
       "      <th>595</th>\n",
       "      <td>09:01</td>\n",
       "      <td>28850.0</td>\n",
       "      <td>250.0</td>\n",
       "      <td>28900.0</td>\n",
       "      <td>28850.0</td>\n",
       "      <td>25364.0</td>\n",
       "      <td>12956.0</td>\n",
       "    </tr>\n",
       "    <tr>\n",
       "      <th>594</th>\n",
       "      <td>09:02</td>\n",
       "      <td>28950.0</td>\n",
       "      <td>350.0</td>\n",
       "      <td>28950.0</td>\n",
       "      <td>28900.0</td>\n",
       "      <td>34927.0</td>\n",
       "      <td>9563.0</td>\n",
       "    </tr>\n",
       "    <tr>\n",
       "      <th>590</th>\n",
       "      <td>09:03</td>\n",
       "      <td>28950.0</td>\n",
       "      <td>350.0</td>\n",
       "      <td>28950.0</td>\n",
       "      <td>28900.0</td>\n",
       "      <td>39859.0</td>\n",
       "      <td>4932.0</td>\n",
       "    </tr>\n",
       "    <tr>\n",
       "      <th>589</th>\n",
       "      <td>09:04</td>\n",
       "      <td>28850.0</td>\n",
       "      <td>250.0</td>\n",
       "      <td>28900.0</td>\n",
       "      <td>28850.0</td>\n",
       "      <td>46778.0</td>\n",
       "      <td>6919.0</td>\n",
       "    </tr>\n",
       "    <tr>\n",
       "      <th>...</th>\n",
       "      <td>...</td>\n",
       "      <td>...</td>\n",
       "      <td>...</td>\n",
       "      <td>...</td>\n",
       "      <td>...</td>\n",
       "      <td>...</td>\n",
       "      <td>...</td>\n",
       "    </tr>\n",
       "    <tr>\n",
       "      <th>5</th>\n",
       "      <td>13:43</td>\n",
       "      <td>29250.0</td>\n",
       "      <td>650.0</td>\n",
       "      <td>29300.0</td>\n",
       "      <td>29250.0</td>\n",
       "      <td>666156.0</td>\n",
       "      <td>1552.0</td>\n",
       "    </tr>\n",
       "    <tr>\n",
       "      <th>4</th>\n",
       "      <td>13:44</td>\n",
       "      <td>29300.0</td>\n",
       "      <td>700.0</td>\n",
       "      <td>29300.0</td>\n",
       "      <td>29250.0</td>\n",
       "      <td>666286.0</td>\n",
       "      <td>130.0</td>\n",
       "    </tr>\n",
       "    <tr>\n",
       "      <th>3</th>\n",
       "      <td>13:45</td>\n",
       "      <td>29300.0</td>\n",
       "      <td>700.0</td>\n",
       "      <td>29300.0</td>\n",
       "      <td>29250.0</td>\n",
       "      <td>666379.0</td>\n",
       "      <td>93.0</td>\n",
       "    </tr>\n",
       "    <tr>\n",
       "      <th>2</th>\n",
       "      <td>13:46</td>\n",
       "      <td>29300.0</td>\n",
       "      <td>700.0</td>\n",
       "      <td>29300.0</td>\n",
       "      <td>29250.0</td>\n",
       "      <td>669129.0</td>\n",
       "      <td>2750.0</td>\n",
       "    </tr>\n",
       "    <tr>\n",
       "      <th>1</th>\n",
       "      <td>13:47</td>\n",
       "      <td>29250.0</td>\n",
       "      <td>650.0</td>\n",
       "      <td>29250.0</td>\n",
       "      <td>29200.0</td>\n",
       "      <td>669311.0</td>\n",
       "      <td>182.0</td>\n",
       "    </tr>\n",
       "  </tbody>\n",
       "</table>\n",
       "<p>376 rows × 7 columns</p>\n",
       "</div>"
      ],
      "text/plain": [
       "      time    price  trash     sell      buy  trading_volum  \\\n",
       "596  09:00  29000.0  400.0  29050.0  29000.0        12408.0   \n",
       "595  09:01  28850.0  250.0  28900.0  28850.0        25364.0   \n",
       "594  09:02  28950.0  350.0  28950.0  28900.0        34927.0   \n",
       "590  09:03  28950.0  350.0  28950.0  28900.0        39859.0   \n",
       "589  09:04  28850.0  250.0  28900.0  28850.0        46778.0   \n",
       "..     ...      ...    ...      ...      ...            ...   \n",
       "5    13:43  29250.0  650.0  29300.0  29250.0       666156.0   \n",
       "4    13:44  29300.0  700.0  29300.0  29250.0       666286.0   \n",
       "3    13:45  29300.0  700.0  29300.0  29250.0       666379.0   \n",
       "2    13:46  29300.0  700.0  29300.0  29250.0       669129.0   \n",
       "1    13:47  29250.0  650.0  29250.0  29200.0       669311.0   \n",
       "\n",
       "     trading_validation  \n",
       "596             12408.0  \n",
       "595             12956.0  \n",
       "594              9563.0  \n",
       "590              4932.0  \n",
       "589              6919.0  \n",
       "..                  ...  \n",
       "5                1552.0  \n",
       "4                 130.0  \n",
       "3                  93.0  \n",
       "2                2750.0  \n",
       "1                 182.0  \n",
       "\n",
       "[376 rows x 7 columns]"
      ]
     },
     "execution_count": 8,
     "metadata": {},
     "output_type": "execute_result"
    }
   ],
   "source": [
    "data_df"
   ]
  },
  {
   "cell_type": "markdown",
   "metadata": {},
   "source": [
    "- # csv_data 저장"
   ]
  },
  {
   "cell_type": "code",
   "execution_count": 9,
   "metadata": {},
   "outputs": [],
   "source": [
    "data_df.to_csv(ex_bio_data_base + '\\\\20201102.csv', index=False)"
   ]
  },
  {
   "cell_type": "markdown",
   "metadata": {},
   "source": [
    "## label 만들기\n",
    "\n",
    "    - data중 price를 불러옴\n",
    "    \n",
    "    - 이전 데이터와 비교해서 price가 늘었나 줄었나 같나 확인\n",
    "    \n",
    "    - 같음: 0 , 늚: 1, 줄음: 2 로 원핫인코딩 할 예정"
   ]
  },
  {
   "cell_type": "code",
   "execution_count": 10,
   "metadata": {},
   "outputs": [],
   "source": [
    "data_csv= open(ex_bio_data_base + '\\\\20201102.csv', 'r')\n",
    "data = csv.reader(data_csv)"
   ]
  },
  {
   "cell_type": "code",
   "execution_count": 11,
   "metadata": {},
   "outputs": [],
   "source": [
    "load_data_df = pd.DataFrame(data) "
   ]
  },
  {
   "cell_type": "code",
   "execution_count": 12,
   "metadata": {},
   "outputs": [
    {
     "data": {
      "text/html": [
       "<div>\n",
       "<style scoped>\n",
       "    .dataframe tbody tr th:only-of-type {\n",
       "        vertical-align: middle;\n",
       "    }\n",
       "\n",
       "    .dataframe tbody tr th {\n",
       "        vertical-align: top;\n",
       "    }\n",
       "\n",
       "    .dataframe thead th {\n",
       "        text-align: right;\n",
       "    }\n",
       "</style>\n",
       "<table border=\"1\" class=\"dataframe\">\n",
       "  <thead>\n",
       "    <tr style=\"text-align: right;\">\n",
       "      <th></th>\n",
       "      <th>0</th>\n",
       "      <th>1</th>\n",
       "      <th>2</th>\n",
       "      <th>3</th>\n",
       "      <th>4</th>\n",
       "      <th>5</th>\n",
       "      <th>6</th>\n",
       "    </tr>\n",
       "  </thead>\n",
       "  <tbody>\n",
       "    <tr>\n",
       "      <th>0</th>\n",
       "      <td>time</td>\n",
       "      <td>price</td>\n",
       "      <td>trash</td>\n",
       "      <td>sell</td>\n",
       "      <td>buy</td>\n",
       "      <td>trading_volum</td>\n",
       "      <td>trading_validation</td>\n",
       "    </tr>\n",
       "    <tr>\n",
       "      <th>1</th>\n",
       "      <td>09:00</td>\n",
       "      <td>29000.0</td>\n",
       "      <td>400.0</td>\n",
       "      <td>29050.0</td>\n",
       "      <td>29000.0</td>\n",
       "      <td>12408.0</td>\n",
       "      <td>12408.0</td>\n",
       "    </tr>\n",
       "    <tr>\n",
       "      <th>2</th>\n",
       "      <td>09:01</td>\n",
       "      <td>28850.0</td>\n",
       "      <td>250.0</td>\n",
       "      <td>28900.0</td>\n",
       "      <td>28850.0</td>\n",
       "      <td>25364.0</td>\n",
       "      <td>12956.0</td>\n",
       "    </tr>\n",
       "    <tr>\n",
       "      <th>3</th>\n",
       "      <td>09:02</td>\n",
       "      <td>28950.0</td>\n",
       "      <td>350.0</td>\n",
       "      <td>28950.0</td>\n",
       "      <td>28900.0</td>\n",
       "      <td>34927.0</td>\n",
       "      <td>9563.0</td>\n",
       "    </tr>\n",
       "    <tr>\n",
       "      <th>4</th>\n",
       "      <td>09:03</td>\n",
       "      <td>28950.0</td>\n",
       "      <td>350.0</td>\n",
       "      <td>28950.0</td>\n",
       "      <td>28900.0</td>\n",
       "      <td>39859.0</td>\n",
       "      <td>4932.0</td>\n",
       "    </tr>\n",
       "    <tr>\n",
       "      <th>...</th>\n",
       "      <td>...</td>\n",
       "      <td>...</td>\n",
       "      <td>...</td>\n",
       "      <td>...</td>\n",
       "      <td>...</td>\n",
       "      <td>...</td>\n",
       "      <td>...</td>\n",
       "    </tr>\n",
       "    <tr>\n",
       "      <th>372</th>\n",
       "      <td>13:43</td>\n",
       "      <td>29250.0</td>\n",
       "      <td>650.0</td>\n",
       "      <td>29300.0</td>\n",
       "      <td>29250.0</td>\n",
       "      <td>666156.0</td>\n",
       "      <td>1552.0</td>\n",
       "    </tr>\n",
       "    <tr>\n",
       "      <th>373</th>\n",
       "      <td>13:44</td>\n",
       "      <td>29300.0</td>\n",
       "      <td>700.0</td>\n",
       "      <td>29300.0</td>\n",
       "      <td>29250.0</td>\n",
       "      <td>666286.0</td>\n",
       "      <td>130.0</td>\n",
       "    </tr>\n",
       "    <tr>\n",
       "      <th>374</th>\n",
       "      <td>13:45</td>\n",
       "      <td>29300.0</td>\n",
       "      <td>700.0</td>\n",
       "      <td>29300.0</td>\n",
       "      <td>29250.0</td>\n",
       "      <td>666379.0</td>\n",
       "      <td>93.0</td>\n",
       "    </tr>\n",
       "    <tr>\n",
       "      <th>375</th>\n",
       "      <td>13:46</td>\n",
       "      <td>29300.0</td>\n",
       "      <td>700.0</td>\n",
       "      <td>29300.0</td>\n",
       "      <td>29250.0</td>\n",
       "      <td>669129.0</td>\n",
       "      <td>2750.0</td>\n",
       "    </tr>\n",
       "    <tr>\n",
       "      <th>376</th>\n",
       "      <td>13:47</td>\n",
       "      <td>29250.0</td>\n",
       "      <td>650.0</td>\n",
       "      <td>29250.0</td>\n",
       "      <td>29200.0</td>\n",
       "      <td>669311.0</td>\n",
       "      <td>182.0</td>\n",
       "    </tr>\n",
       "  </tbody>\n",
       "</table>\n",
       "<p>377 rows × 7 columns</p>\n",
       "</div>"
      ],
      "text/plain": [
       "         0        1      2        3        4              5  \\\n",
       "0     time    price  trash     sell      buy  trading_volum   \n",
       "1    09:00  29000.0  400.0  29050.0  29000.0        12408.0   \n",
       "2    09:01  28850.0  250.0  28900.0  28850.0        25364.0   \n",
       "3    09:02  28950.0  350.0  28950.0  28900.0        34927.0   \n",
       "4    09:03  28950.0  350.0  28950.0  28900.0        39859.0   \n",
       "..     ...      ...    ...      ...      ...            ...   \n",
       "372  13:43  29250.0  650.0  29300.0  29250.0       666156.0   \n",
       "373  13:44  29300.0  700.0  29300.0  29250.0       666286.0   \n",
       "374  13:45  29300.0  700.0  29300.0  29250.0       666379.0   \n",
       "375  13:46  29300.0  700.0  29300.0  29250.0       669129.0   \n",
       "376  13:47  29250.0  650.0  29250.0  29200.0       669311.0   \n",
       "\n",
       "                      6  \n",
       "0    trading_validation  \n",
       "1               12408.0  \n",
       "2               12956.0  \n",
       "3                9563.0  \n",
       "4                4932.0  \n",
       "..                  ...  \n",
       "372              1552.0  \n",
       "373               130.0  \n",
       "374                93.0  \n",
       "375              2750.0  \n",
       "376               182.0  \n",
       "\n",
       "[377 rows x 7 columns]"
      ]
     },
     "execution_count": 12,
     "metadata": {},
     "output_type": "execute_result"
    }
   ],
   "source": [
    "load_data_df"
   ]
  },
  {
   "cell_type": "code",
   "execution_count": 13,
   "metadata": {},
   "outputs": [
    {
     "data": {
      "text/plain": [
       "1      29000.0\n",
       "2      28850.0\n",
       "3      28950.0\n",
       "4      28950.0\n",
       "5      28850.0\n",
       "        ...   \n",
       "372    29250.0\n",
       "373    29300.0\n",
       "374    29300.0\n",
       "375    29300.0\n",
       "376    29250.0\n",
       "Name: 1, Length: 376, dtype: object"
      ]
     },
     "execution_count": 13,
     "metadata": {},
     "output_type": "execute_result"
    }
   ],
   "source": [
    "load_data_df[1][1:]"
   ]
  },
  {
   "cell_type": "markdown",
   "metadata": {},
   "source": [
    "- # data를 int형식으로 바꿔 리스트에 넣어줌"
   ]
  },
  {
   "cell_type": "code",
   "execution_count": 14,
   "metadata": {},
   "outputs": [],
   "source": [
    "tmp_label = []\n",
    "\n",
    "for i in load_data_df[1][1:]:\n",
    "    int_label = float(i)\n",
    "    tmp_label.append(int_label)\n",
    "    \n",
    "del int_label"
   ]
  },
  {
   "cell_type": "code",
   "execution_count": 15,
   "metadata": {},
   "outputs": [
    {
     "data": {
      "text/plain": [
       "float"
      ]
     },
     "execution_count": 15,
     "metadata": {},
     "output_type": "execute_result"
    }
   ],
   "source": [
    "type(tmp_label[0])"
   ]
  },
  {
   "cell_type": "code",
   "execution_count": 16,
   "metadata": {},
   "outputs": [],
   "source": [
    "labels = []\n",
    "\n",
    "for i in range(1, len(tmp_label)):\n",
    "    if (tmp_label[i-1] - tmp_label[i]) > 0:\n",
    "        labels.append(2)\n",
    "    elif (tmp_label[i-1] - tmp_label[i]) == 0:\n",
    "        labels.append(0)\n",
    "    else:\n",
    "        labels.append(1)"
   ]
  },
  {
   "cell_type": "code",
   "execution_count": 17,
   "metadata": {},
   "outputs": [],
   "source": [
    "labels = np.array(labels)"
   ]
  },
  {
   "cell_type": "code",
   "execution_count": 18,
   "metadata": {},
   "outputs": [
    {
     "data": {
      "text/plain": [
       "array([2, 1, 0, 2, 0, 1, 1, 2, 2, 1, 0, 2, 0, 1, 1, 2, 2, 1, 0, 2, 0, 1,\n",
       "       1, 2, 2, 1, 0, 2, 0, 1, 1, 2, 2, 1, 0, 2, 0, 1, 1, 2, 2, 1, 0, 2,\n",
       "       0, 1, 1, 2, 2, 1, 0, 2, 0, 1, 1, 2, 2, 1, 0, 2, 0, 1, 1, 2, 2, 1,\n",
       "       0, 2, 0, 1, 1, 2, 2, 1, 0, 2, 0, 1, 1, 2, 2, 1, 0, 2, 0, 1, 1, 2,\n",
       "       2, 1, 0, 2, 0, 1, 1, 2, 2, 1, 2, 2, 0, 1, 2, 1, 1, 2, 0, 1, 1, 1,\n",
       "       2, 1, 2, 0, 2, 1, 0, 2, 0, 2, 2, 0, 1, 2, 0, 0, 0, 1, 1, 1, 0, 2,\n",
       "       0, 0, 0, 2, 1, 2, 1, 1, 1, 2, 1, 2, 1, 2, 2, 1, 1, 0, 0, 0, 0, 0,\n",
       "       2, 1, 1, 1, 1, 1, 2, 1, 2, 1, 2, 2, 1, 2, 1, 2, 2, 2, 1, 1, 0, 2,\n",
       "       0, 2, 1, 0, 1, 1, 0, 1, 1, 2, 2, 1, 0, 2, 1, 2, 0, 2, 0, 0, 1, 0,\n",
       "       0, 2, 0, 0, 0, 0, 1, 0, 2, 0, 2, 2, 0, 0, 2, 0, 2, 2, 0, 2, 0, 0,\n",
       "       1, 0, 2, 0, 0, 1, 0, 0, 0, 2, 0, 0, 0, 1, 2, 0, 1, 1, 0, 0, 2, 1,\n",
       "       0, 2, 0, 0, 0, 0, 1, 2, 0, 1, 1, 2, 2, 1, 2, 2, 0, 0, 1, 1, 2, 0,\n",
       "       0, 0, 0, 0, 1, 0, 2, 0, 0, 0, 0, 0, 0, 0, 0, 0, 2, 2, 0, 1, 0, 1,\n",
       "       1, 2, 0, 0, 0, 1, 2, 0, 2, 0, 0, 0, 1, 2, 0, 1, 0, 0, 2, 0, 0, 0,\n",
       "       0, 1, 0, 2, 1, 2, 1, 1, 1, 0, 1, 1, 2, 0, 2, 2, 1, 2, 2, 1, 1, 2,\n",
       "       1, 0, 0, 2, 1, 0, 2, 1, 2, 1, 0, 1, 1, 2, 0, 1, 2, 0, 1, 0, 2, 1,\n",
       "       2, 0, 0, 1, 2, 0, 1, 1, 2, 1, 0, 0, 1, 1, 0, 0, 2, 0, 2, 1, 0, 0,\n",
       "       2])"
      ]
     },
     "execution_count": 18,
     "metadata": {},
     "output_type": "execute_result"
    }
   ],
   "source": [
    "labels"
   ]
  },
  {
   "cell_type": "markdown",
   "metadata": {},
   "source": [
    "- # label을 numpy로 저장해줌"
   ]
  },
  {
   "cell_type": "code",
   "execution_count": 19,
   "metadata": {},
   "outputs": [],
   "source": [
    "np.save(ex_bio_label_base + '\\\\20201102.npy', labels)"
   ]
  },
  {
   "cell_type": "markdown",
   "metadata": {},
   "source": [
    "## 데이터를 받는 class 만듦\n",
    "\n",
    "   - value1: data_path\n",
    "   - value2: label_path\n",
    "   - value3: url"
   ]
  },
  {
   "cell_type": "code",
   "execution_count": 5,
   "metadata": {},
   "outputs": [],
   "source": [
    "class Data_harvasting:\n",
    "    data_path = ''\n",
    "    label_path = ''\n",
    "    url = ''\n",
    "    date = ''\n",
    "    code = ''\n",
    "    \n",
    "    def __init__(self, value1, value2, value3, value4):\n",
    "        self.data_path = value1\n",
    "        self.label_path = value2\n",
    "        self.code = value3\n",
    "        self.date = value4\n",
    "        self.url = 'http://finance.naver.com/item/sise_time.nhn?code={code}&thistime={date}'.format(code = self.code, date = self.date)\n",
    "     \n",
    "    #url에서 데이터를 받음\n",
    "    def harvasting_data(self):\n",
    "        \n",
    "        #url에서 데이터를 가져옴\n",
    "        df=pd.DataFrame()\n",
    "        for page in range(1, 41):\n",
    "            pg_url = '{url}&page={page}'.format(url=self.url, page=page)\n",
    "            df = df.append(pd.read_html(pg_url, header=0)[0], ignore_index=True)\n",
    "            \n",
    "        df.rename(columns={'체결시각': 'time',\n",
    "                   '체결가': 'price',\n",
    "                   '전일비' : 'trash',\n",
    "                  '매도': 'sell',\n",
    "                  '매수': 'buy',\n",
    "                  '거래량': 'trading_volum',\n",
    "                  '변동량': 'trading_validation'},\n",
    "          \n",
    "                   inplace=True)\n",
    "        \n",
    "        #비어있는 값은 없에기\n",
    "        df['price'] = df['price'].fillna(0)\n",
    "        count = 1\n",
    "        count_list = []\n",
    "        \n",
    "        for k in df['price']:\n",
    "            if k == 0:\n",
    "                count_list.append(count)\n",
    "            count += 1\n",
    "            \n",
    "        new_count = np.array(count_list)\n",
    "        data_df = df\n",
    "        data_df.drop(data_df.index[new_count - 1], inplace=True)\n",
    "        print('ok')\n",
    "        \n",
    "        #데이터 시간을 반대로 뒤집어줌\n",
    "        data_df = data_df.loc[::-1]\n",
    "        \n",
    "        #csv데이터 저장\n",
    "        data_df.to_csv(self.data_path + '\\\\{date}.csv'.format(date = self.date[0:8]), index=False)\n",
    "     \n",
    "    #label을 생성함\n",
    "    def harvasting_label(self):\n",
    "        data_csv= open(self.data_path + '\\\\{date}.csv'.format(date = self.date[0:8]), 'r')\n",
    "        data = csv.reader(data_csv)\n",
    "        load_data_df = pd.DataFrame(data) \n",
    "        \n",
    "        tmp_label = []\n",
    "        for i in load_data_df[1][1:]:\n",
    "            int_label = float(i)\n",
    "            tmp_label.append(int_label)\n",
    "        del int_label\n",
    "        \n",
    "        labels = []\n",
    "        for i in range(1, len(tmp_label)):\n",
    "            if (tmp_label[i-1] - tmp_label[i]) > 0:\n",
    "                labels.append(2)\n",
    "            elif (tmp_label[i-1] - tmp_label[i]) == 0:\n",
    "                labels.append(0)\n",
    "            else:\n",
    "                labels.append(1)\n",
    "        \n",
    "        labels = np.array(labels)\n",
    "        np.save(self.label_path + '\\\\{date}.npy'.format(date = self.date[0:8]), labels)"
   ]
  },
  {
   "cell_type": "markdown",
   "metadata": {},
   "source": [
    "# code랑 date 미리 적어두기\n",
    "\n",
    "   - oil: 500019,    date: 20201027123806\n",
    "   \n",
    "   - samsung: 005930,    date: 20201015134741\n",
    "   \n",
    "   - ex_bio: 950130,     date: 20201014144608"
   ]
  },
  {
   "cell_type": "code",
   "execution_count": 11,
   "metadata": {},
   "outputs": [],
   "source": [
    "code_name = '950130'\n",
    "data_base = ex_bio_data_base\n",
    "label_base = ex_bio_label_base"
   ]
  },
  {
   "cell_type": "code",
   "execution_count": 48,
   "metadata": {},
   "outputs": [
    {
     "name": "stdout",
     "output_type": "stream",
     "text": [
      "ok\n",
      "ok\n",
      "ok\n",
      "ok\n",
      "ok\n"
     ]
    }
   ],
   "source": [
    "test1 = Data_harvasting(data_base, label_base, code_name, '20201103134741')\n",
    "test1.harvasting_data()\n",
    "test1.harvasting_label()\n",
    "\n",
    "test2 = Data_harvasting(data_base, label_base, code_name, '20201104134741')\n",
    "test2.harvasting_data()\n",
    "test2.harvasting_label()\n",
    "\n",
    "test3 = Data_harvasting(data_base, label_base, code_name, '20201105134741')\n",
    "test3.harvasting_data()\n",
    "test3.harvasting_label()\n",
    "\n",
    "test4 = Data_harvasting(data_base, label_base, code_name, '20201106134741')\n",
    "test4.harvasting_data()\n",
    "test4.harvasting_label()\n",
    "\n",
    "test5 = Data_harvasting(data_base, label_base, code_name, '20201109134741')\n",
    "test5.harvasting_data()\n",
    "test5.harvasting_label()\n"
   ]
  },
  {
   "cell_type": "code",
   "execution_count": 13,
   "metadata": {},
   "outputs": [
    {
     "name": "stdout",
     "output_type": "stream",
     "text": [
      "ok\n"
     ]
    }
   ],
   "source": [
    "test1 = Data_harvasting(data_base, label_base, code_name, '20201112144608')\n",
    "test1.harvasting_data()\n",
    "test1.harvasting_label()"
   ]
  }
 ],
 "metadata": {
  "kernelspec": {
   "display_name": "Python 3",
   "language": "python",
   "name": "python3"
  },
  "language_info": {
   "codemirror_mode": {
    "name": "ipython",
    "version": 3
   },
   "file_extension": ".py",
   "mimetype": "text/x-python",
   "name": "python",
   "nbconvert_exporter": "python",
   "pygments_lexer": "ipython3",
   "version": "3.7.9"
  }
 },
 "nbformat": 4,
 "nbformat_minor": 4
}
