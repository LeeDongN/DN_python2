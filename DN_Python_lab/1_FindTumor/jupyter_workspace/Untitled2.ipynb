{
 "cells": [
  {
   "cell_type": "code",
   "execution_count": 1,
   "metadata": {},
   "outputs": [],
   "source": [
    "import glob\n",
    "import time\n",
    "import cv2\n",
    "from matplotlib import pyplot as plt\n",
    "import numpy as np\n",
    "import os"
   ]
  },
  {
   "cell_type": "code",
   "execution_count": 26,
   "metadata": {},
   "outputs": [],
   "source": [
    "#원하는 경로 지정 변수\n",
    "path_image = r'C:\\program1\\image_raw\\\\'\n",
    "\n",
    "tif = glob.glob(path_image + '/*.tif')\n",
    "png = glob.glob(path_image + '/*.png')\n",
    "bmp = glob.glob(path_image + '/*.bmp')\n",
    "\n",
    "#img 원하는 저장 공간\n",
    "SAVE_PATH_img = 'C:\\program1\\imgae_raw_modified\\\\'\n",
    "\n",
    "\n",
    "#mask 원하는 저장 공간\n",
    "SAVE_PATH_mask = 'C:\\program1\\image_mask_modified\\\\'\n",
    "\n",
    "#원하는 경로 지정 변수\n",
    "path_mask = 'C:\\program1\\image_mask\\\\'"
   ]
  },
  {
   "cell_type": "code",
   "execution_count": 41,
   "metadata": {},
   "outputs": [],
   "source": [
    "def mask_cutting(x, y, w, h, SAVE_PATH_mask, basename, TYPE):\n",
    "    \n",
    "    mask_gray = cv2.imread(path_mask + basename[:-4] + '_mask' +TYPE, cv2.IMREAD_GRAYSCALE)\n",
    "        \n",
    "    mask_trim = mask_gray[y:y+h, x:x+w]\n",
    "    cv2.imwrite(SAVE_PATH_mask + basename + '_mask' + TYPE, mask_trim)\n",
    "    print(basename + '_mask' + TYPE)\n",
    "        \n",
    "        "
   ]
  },
  {
   "cell_type": "code",
   "execution_count": 46,
   "metadata": {},
   "outputs": [],
   "source": [
    "def img_cutting(DATA_KIND, SAVE_PATH):\n",
    "    global TYPE\n",
    "\n",
    "    if not DATA_KIND:\n",
    "        DATA_KIND = \"$\"\n",
    "        \n",
    "    else:\n",
    "        \n",
    "        if '.png' in DATA_KIND[0]:\n",
    "            TYPE = '.png'\n",
    "        \n",
    "        elif 'bmp' in DATA_KIND[0]:\n",
    "            TYPE = '.bmp'\n",
    "            \n",
    "    print(DATA_KIND)\n",
    "    for a in DATA_KIND:\n",
    "        \n",
    "        if a == \"$\":\n",
    "            continue\n",
    "            \n",
    "        img_color = cv2.imread(a)\n",
    "        img_gray = cv2.imread(a, cv2.IMREAD_GRAYSCALE)\n",
    "        basename = os.path.basename(a)\n",
    "        \n",
    "        #이미지의 윤곽선을 딴다\n",
    "        blur = cv2.GaussianBlur(img_gray, ksize = (5, 5), sigmaX = 0)\n",
    "        ret, thresh1 = cv2.threshold(blur, 127, 255, cv2.THRESH_BINARY)\n",
    "\n",
    "        edged = cv2.Canny(blur, 10, 250)\n",
    "\n",
    "\n",
    "        contours, _ = cv2.findContours(edged.copy(), cv2.RETR_EXTERNAL, cv2.CHAIN_APPROX_SIMPLE)\n",
    "\n",
    "\n",
    "        contours_xy = np.array(contours)\n",
    "        contours_xy.shape\n",
    "\n",
    "        #이미지의 x, y의 최대 최소 값을 구한\n",
    "        x_min, x_min = 0, 0\n",
    "        value = list()\n",
    "        \n",
    "        for i in range(len(contours_xy)):\n",
    "            for j in range(len(contours_xy[i])):\n",
    "                value.append(contours_xy[i][j][0][0])\n",
    "                x_min = min(value)\n",
    "                x_max = max(value)\n",
    "\n",
    "\n",
    "        y_min, y_min = 0, 0\n",
    "        value = list()\n",
    "        \n",
    "        for i in range(len(contours_xy)):\n",
    "            for j in range(len(contours_xy[i])):\n",
    "                value.append(contours_xy[i][j][0][1])\n",
    "                y_min = min(value)\n",
    "                y_max = max(value)\n",
    "\n",
    "\n",
    "        x = x_min\n",
    "        y = y_min\n",
    "        w = x_max - x_min\n",
    "        h = y_max - y_min\n",
    "        \n",
    "        img_trim = img_color[y:y+h, x:x+w]\n",
    "        cv2.imwrite(SAVE_PATH + basename, img_trim)\n",
    "        print(basename)\n",
    "        \n",
    "        mask_cutting(x, y, w, h, SAVE_PATH_mask, basename, TYPE)"
   ]
  },
  {
   "cell_type": "code",
   "execution_count": 47,
   "metadata": {},
   "outputs": [
    {
     "name": "stdout",
     "output_type": "stream",
     "text": [
      "$\n"
     ]
    }
   ],
   "source": [
    "img_cutting(bmp, SAVE_PATH_img)"
   ]
  },
  {
   "cell_type": "code",
   "execution_count": 19,
   "metadata": {},
   "outputs": [
    {
     "data": {
      "text/plain": [
       "'01-0005.png'"
      ]
     },
     "execution_count": 19,
     "metadata": {},
     "output_type": "execute_result"
    }
   ],
   "source": [
    "basename"
   ]
  },
  {
   "cell_type": "code",
   "execution_count": 31,
   "metadata": {
    "scrolled": true
   },
   "outputs": [
    {
     "data": {
      "text/plain": [
       "'C:\\\\program1\\\\image_mask\\\\01-0005.png'"
      ]
     },
     "execution_count": 31,
     "metadata": {},
     "output_type": "execute_result"
    }
   ],
   "source": [
    "path_mask + basename[:-4] + TYPE"
   ]
  },
  {
   "cell_type": "code",
   "execution_count": 33,
   "metadata": {},
   "outputs": [],
   "source": [
    "mask_gray = cv2.imread(path_mask + basename[:-4] + TYPE, cv2.IMREAD_GRAYSCALE)"
   ]
  },
  {
   "cell_type": "code",
   "execution_count": 36,
   "metadata": {},
   "outputs": [
    {
     "ename": "NameError",
     "evalue": "name 'y' is not defined",
     "output_type": "error",
     "traceback": [
      "\u001b[1;31m---------------------------------------------------------------------------\u001b[0m",
      "\u001b[1;31mNameError\u001b[0m                                 Traceback (most recent call last)",
      "\u001b[1;32m<ipython-input-36-e193e5b3896e>\u001b[0m in \u001b[0;36m<module>\u001b[1;34m\u001b[0m\n\u001b[1;32m----> 1\u001b[1;33m \u001b[0mmask_trim\u001b[0m \u001b[1;33m=\u001b[0m \u001b[0mmask_gray\u001b[0m\u001b[1;33m[\u001b[0m\u001b[0my\u001b[0m\u001b[1;33m:\u001b[0m\u001b[0my\u001b[0m\u001b[1;33m+\u001b[0m\u001b[0mh\u001b[0m\u001b[1;33m,\u001b[0m \u001b[0mx\u001b[0m\u001b[1;33m:\u001b[0m\u001b[0mx\u001b[0m\u001b[1;33m+\u001b[0m\u001b[0mw\u001b[0m\u001b[1;33m]\u001b[0m\u001b[1;33m\u001b[0m\u001b[1;33m\u001b[0m\u001b[0m\n\u001b[0m",
      "\u001b[1;31mNameError\u001b[0m: name 'y' is not defined"
     ]
    }
   ],
   "source": [
    "mask_trim = mask_gray[y:y+h, x:x+w]"
   ]
  }
 ],
 "metadata": {
  "kernelspec": {
   "display_name": "Python 3",
   "language": "python",
   "name": "python3"
  },
  "language_info": {
   "codemirror_mode": {
    "name": "ipython",
    "version": 3
   },
   "file_extension": ".py",
   "mimetype": "text/x-python",
   "name": "python",
   "nbconvert_exporter": "python",
   "pygments_lexer": "ipython3",
   "version": "3.7.4"
  }
 },
 "nbformat": 4,
 "nbformat_minor": 2
}
