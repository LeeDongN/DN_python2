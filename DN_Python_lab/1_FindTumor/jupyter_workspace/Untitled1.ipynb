{
 "cells": [
  {
   "cell_type": "code",
   "execution_count": 56,
   "metadata": {},
   "outputs": [],
   "source": [
    "import glob\n",
    "import time\n",
    "import cv2\n",
    "from matplotlib import pyplot as plt\n",
    "import numpy as np\n",
    "import os"
   ]
  },
  {
   "cell_type": "code",
   "execution_count": 57,
   "metadata": {},
   "outputs": [],
   "source": [
    "#원하는 경로 지정 변수\n",
    "path_image = r'C:\\program1\\image_raw\\\\'\n",
    "\n",
    "tif = glob.glob(path_image + '/*.tif')\n",
    "png = glob.glob(path_image + '/*.png')\n",
    "bmp = glob.glob(path_image + '/*.bmp')\n",
    "\n",
    "#img 원하는 저장 공간\n",
    "SAVE_PATH_img = 'C:\\program1\\imgae_raw_modified\\\\'\n",
    "\n",
    "\n",
    "#mask 원하는 저장 공간\n",
    "SAVE_PATH_mask = 'C:\\program1\\image_mask_modified\\\\'\n",
    "\n",
    "#원하는 경로 지정 변수\n",
    "path_mask = r'C:\\program1\\image_mask\\\\'"
   ]
  },
  {
   "cell_type": "code",
   "execution_count": 58,
   "metadata": {},
   "outputs": [],
   "source": [
    "def mask_cutting(x, y, w, h, SAVE_PATH_mask, basename, TYPE):\n",
    "    \n",
    "    mask_gray = cv2.imread(path_mask + basename[:-4] + TYPE, cv2.IMREAD_GRAYSCALE)\n",
    "        \n",
    "    mask_trim = mask_gray[y:y+h, x:x+w]\n",
    "    cv2.imwrite(SAVE_PATH_mask + basename + '_mask' + TYPE, mask_trim)\n",
    "    print(basename + '_mask' + TYPE)"
   ]
  },
  {
   "cell_type": "code",
   "execution_count": 59,
   "metadata": {},
   "outputs": [],
   "source": [
    "        \n",
    "def img_cutting(DATA_KIND, SAVE_PATH):\n",
    "    global TYPE\n",
    "    #원하는 mask를 잘라 이름을 붙이기 위함.\n",
    "    if '.png' in DATA_KIND[0]:\n",
    "        TYPE = '.png'\n",
    "        \n",
    "    elif 'bmp' in DATA_KIND[0]:\n",
    "        TYPE = '.bmp'\n",
    "\n",
    "    for a in DATA_KIND:\n",
    "        img_color = cv2.imread(a)\n",
    "        img_gray = cv2.imread(a, cv2.IMREAD_GRAYSCALE)\n",
    "        basename = os.path.basename(a)\n",
    "        \n",
    "        #이미지의 윤곽선을 딴다\n",
    "        blur = cv2.GaussianBlur(img_gray, ksize = (5, 5), sigmaX = 0)\n",
    "        ret, thresh1 = cv2.threshold(blur, 127, 255, cv2.THRESH_BINARY)\n",
    "\n",
    "        edged = cv2.Canny(blur, 10, 250)\n",
    "\n",
    "\n",
    "        contours, _ = cv2.findContours(edged.copy(), cv2.RETR_EXTERNAL, cv2.CHAIN_APPROX_SIMPLE)\n",
    "\n",
    "\n",
    "        contours_xy = np.array(contours)\n",
    "        contours_xy.shape\n",
    "\n",
    "        #이미지의 x, y의 최대 최소 값을 구한\n",
    "        x_min, x_min = 0, 0\n",
    "        value = list()\n",
    "        \n",
    "        for i in range(len(contours_xy)):\n",
    "            for j in range(len(contours_xy[i])):\n",
    "                value.append(contours_xy[i][j][0][0])\n",
    "                x_min = min(value)\n",
    "                x_max = max(value)\n",
    "\n",
    "\n",
    "        y_min, y_min = 0, 0\n",
    "        value = list()\n",
    "        \n",
    "        for i in range(len(contours_xy)):\n",
    "            for j in range(len(contours_xy[i])):\n",
    "                value.append(contours_xy[i][j][0][1])\n",
    "                y_min = min(value)\n",
    "                y_max = max(value)\n",
    "\n",
    "\n",
    "        x = x_min\n",
    "        y = y_min\n",
    "        w = x_max - x_min\n",
    "        h = y_max - y_min\n",
    "        \n",
    "        img_trim = img_color[y:y+h, x:x+w]\n",
    "        cv2.imwrite(SAVE_PATH + basename, img_trim)\n",
    "        print(basename)\n",
    "\n",
    "        mask_cutting(x, y, w, h, SAVE_PATH_mask, basename, TYPE)"
   ]
  },
  {
   "cell_type": "code",
   "execution_count": 60,
   "metadata": {},
   "outputs": [
    {
     "name": "stdout",
     "output_type": "stream",
     "text": [
      "01-0005.png\n"
     ]
    },
    {
     "ename": "TypeError",
     "evalue": "'NoneType' object is not subscriptable",
     "output_type": "error",
     "traceback": [
      "\u001b[1;31m---------------------------------------------------------------------------\u001b[0m",
      "\u001b[1;31mTypeError\u001b[0m                                 Traceback (most recent call last)",
      "\u001b[1;32m<ipython-input-60-42f8a9df8720>\u001b[0m in \u001b[0;36m<module>\u001b[1;34m\u001b[0m\n\u001b[0;32m      1\u001b[0m \u001b[0mstartTime\u001b[0m \u001b[1;33m=\u001b[0m \u001b[0mtime\u001b[0m\u001b[1;33m.\u001b[0m\u001b[0mtime\u001b[0m\u001b[1;33m(\u001b[0m\u001b[1;33m)\u001b[0m\u001b[1;33m\u001b[0m\u001b[1;33m\u001b[0m\u001b[0m\n\u001b[0;32m      2\u001b[0m \u001b[1;33m\u001b[0m\u001b[0m\n\u001b[1;32m----> 3\u001b[1;33m \u001b[0mimg_cutting\u001b[0m\u001b[1;33m(\u001b[0m\u001b[0mpng\u001b[0m\u001b[1;33m,\u001b[0m \u001b[0mSAVE_PATH_img\u001b[0m\u001b[1;33m)\u001b[0m\u001b[1;33m\u001b[0m\u001b[1;33m\u001b[0m\u001b[0m\n\u001b[0m\u001b[0;32m      4\u001b[0m \u001b[0mendTime\u001b[0m \u001b[1;33m=\u001b[0m \u001b[0mtime\u001b[0m\u001b[1;33m.\u001b[0m\u001b[0mtime\u001b[0m\u001b[1;33m(\u001b[0m\u001b[1;33m)\u001b[0m\u001b[1;33m\u001b[0m\u001b[1;33m\u001b[0m\u001b[0m\n\u001b[0;32m      5\u001b[0m \u001b[1;33m\u001b[0m\u001b[0m\n",
      "\u001b[1;32m<ipython-input-59-c4126b03b196>\u001b[0m in \u001b[0;36mimg_cutting\u001b[1;34m(DATA_KIND, SAVE_PATH)\u001b[0m\n\u001b[0;32m     56\u001b[0m         \u001b[0mprint\u001b[0m\u001b[1;33m(\u001b[0m\u001b[0mbasename\u001b[0m\u001b[1;33m)\u001b[0m\u001b[1;33m\u001b[0m\u001b[1;33m\u001b[0m\u001b[0m\n\u001b[0;32m     57\u001b[0m \u001b[1;33m\u001b[0m\u001b[0m\n\u001b[1;32m---> 58\u001b[1;33m         \u001b[0mmask_cutting\u001b[0m\u001b[1;33m(\u001b[0m\u001b[0mx\u001b[0m\u001b[1;33m,\u001b[0m \u001b[0my\u001b[0m\u001b[1;33m,\u001b[0m \u001b[0mw\u001b[0m\u001b[1;33m,\u001b[0m \u001b[0mh\u001b[0m\u001b[1;33m,\u001b[0m \u001b[0mSAVE_PATH_mask\u001b[0m\u001b[1;33m,\u001b[0m \u001b[0mbasename\u001b[0m\u001b[1;33m,\u001b[0m \u001b[0mTYPE\u001b[0m\u001b[1;33m)\u001b[0m\u001b[1;33m\u001b[0m\u001b[1;33m\u001b[0m\u001b[0m\n\u001b[0m",
      "\u001b[1;32m<ipython-input-58-0e8295005c16>\u001b[0m in \u001b[0;36mmask_cutting\u001b[1;34m(x, y, w, h, SAVE_PATH_mask, basename, TYPE)\u001b[0m\n\u001b[0;32m      3\u001b[0m     \u001b[0mmask_gray\u001b[0m \u001b[1;33m=\u001b[0m \u001b[0mcv2\u001b[0m\u001b[1;33m.\u001b[0m\u001b[0mimread\u001b[0m\u001b[1;33m(\u001b[0m\u001b[0mpath_mask\u001b[0m \u001b[1;33m+\u001b[0m \u001b[0mbasename\u001b[0m\u001b[1;33m[\u001b[0m\u001b[1;33m:\u001b[0m\u001b[1;33m-\u001b[0m\u001b[1;36m4\u001b[0m\u001b[1;33m]\u001b[0m \u001b[1;33m+\u001b[0m \u001b[0mTYPE\u001b[0m\u001b[1;33m,\u001b[0m \u001b[0mcv2\u001b[0m\u001b[1;33m.\u001b[0m\u001b[0mIMREAD_GRAYSCALE\u001b[0m\u001b[1;33m)\u001b[0m\u001b[1;33m\u001b[0m\u001b[1;33m\u001b[0m\u001b[0m\n\u001b[0;32m      4\u001b[0m \u001b[1;33m\u001b[0m\u001b[0m\n\u001b[1;32m----> 5\u001b[1;33m     \u001b[0mmask_trim\u001b[0m \u001b[1;33m=\u001b[0m \u001b[0mmask_gray\u001b[0m\u001b[1;33m[\u001b[0m\u001b[0my\u001b[0m\u001b[1;33m:\u001b[0m\u001b[0my\u001b[0m\u001b[1;33m+\u001b[0m\u001b[0mh\u001b[0m\u001b[1;33m,\u001b[0m \u001b[0mx\u001b[0m\u001b[1;33m:\u001b[0m\u001b[0mx\u001b[0m\u001b[1;33m+\u001b[0m\u001b[0mw\u001b[0m\u001b[1;33m]\u001b[0m\u001b[1;33m\u001b[0m\u001b[1;33m\u001b[0m\u001b[0m\n\u001b[0m\u001b[0;32m      6\u001b[0m     \u001b[0mcv2\u001b[0m\u001b[1;33m.\u001b[0m\u001b[0mimwrite\u001b[0m\u001b[1;33m(\u001b[0m\u001b[0mSAVE_PATH_mask\u001b[0m \u001b[1;33m+\u001b[0m \u001b[0mbasename\u001b[0m \u001b[1;33m+\u001b[0m \u001b[1;34m'_mask'\u001b[0m \u001b[1;33m+\u001b[0m \u001b[0mTYPE\u001b[0m\u001b[1;33m,\u001b[0m \u001b[0mmask_trim\u001b[0m\u001b[1;33m)\u001b[0m\u001b[1;33m\u001b[0m\u001b[1;33m\u001b[0m\u001b[0m\n\u001b[0;32m      7\u001b[0m     \u001b[0mprint\u001b[0m\u001b[1;33m(\u001b[0m\u001b[0mbasename\u001b[0m \u001b[1;33m+\u001b[0m \u001b[1;34m'_mask'\u001b[0m \u001b[1;33m+\u001b[0m \u001b[0mTYPE\u001b[0m\u001b[1;33m)\u001b[0m\u001b[1;33m\u001b[0m\u001b[1;33m\u001b[0m\u001b[0m\n",
      "\u001b[1;31mTypeError\u001b[0m: 'NoneType' object is not subscriptable"
     ]
    }
   ],
   "source": [
    "startTime = time.time()\n",
    "\n",
    "img_cutting(png, SAVE_PATH_img)    \n",
    "endTime = time.time()\n",
    "\n",
    "print(round(endTime - startTime, 2))       "
   ]
  },
  {
   "cell_type": "code",
   "execution_count": 61,
   "metadata": {},
   "outputs": [
    {
     "data": {
      "text/plain": [
       "'C:\\\\program1\\\\image_mask\\\\\\\\01-0063.png'"
      ]
     },
     "execution_count": 61,
     "metadata": {},
     "output_type": "execute_result"
    }
   ],
   "source": [
    "path_mask + basename[:-4] + TYPE"
   ]
  },
  {
   "cell_type": "code",
   "execution_count": 62,
   "metadata": {},
   "outputs": [],
   "source": [
    "DA = []"
   ]
  },
  {
   "cell_type": "code",
   "execution_count": 67,
   "metadata": {},
   "outputs": [
    {
     "name": "stdout",
     "output_type": "stream",
     "text": [
      "ad\n"
     ]
    }
   ],
   "source": [
    "global TYPE\n",
    "if not DA:\n",
    "    print('ad')\n",
    "    \n",
    "else:\n",
    "    if '.png' in DA[0]:\n",
    "        TYPE = '.png'\n",
    "        \n",
    "    elif 'bmp' in DA[0]:\n",
    "        TYPE = '.bmp'\n",
    "    "
   ]
  }
 ],
 "metadata": {
  "kernelspec": {
   "display_name": "Python 3",
   "language": "python",
   "name": "python3"
  },
  "language_info": {
   "codemirror_mode": {
    "name": "ipython",
    "version": 3
   },
   "file_extension": ".py",
   "mimetype": "text/x-python",
   "name": "python",
   "nbconvert_exporter": "python",
   "pygments_lexer": "ipython3",
   "version": "3.7.4"
  }
 },
 "nbformat": 4,
 "nbformat_minor": 2
}
