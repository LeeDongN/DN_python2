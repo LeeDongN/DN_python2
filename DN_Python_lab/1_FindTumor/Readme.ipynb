{
  "nbformat": 4,
  "nbformat_minor": 0,
  "metadata": {
    "colab": {
      "name": "Readme.ipynb",
      "provenance": [],
      "collapsed_sections": [],
      "authorship_tag": "ABX9TyMH1EDdXzcHxZy4JW21E8oa",
      "include_colab_link": true
    },
    "kernelspec": {
      "name": "python3",
      "display_name": "Python 3"
    }
  },
  "cells": [
    {
      "cell_type": "markdown",
      "metadata": {
        "id": "view-in-github",
        "colab_type": "text"
      },
      "source": [
        "<a href=\"https://colab.research.google.com/github/LeeDongN/DN_Python/blob/master/Readme.ipynb\" target=\"_parent\"><img src=\"https://colab.research.google.com/assets/colab-badge.svg\" alt=\"Open In Colab\"/></a>"
      ]
    },
    {
      "cell_type": "markdown",
      "metadata": {
        "id": "G1yRALmRnqdp",
        "colab_type": "text"
      },
      "source": [
        "#Find Tumor  \n",
        "\n",
        "---\n",
        "\n",
        "##해결해야 할 것\n",
        "1. FindCoordinates\n",
        "\n",
        "2. Tumor_pre-processing\n",
        "\n",
        "    - tumor_img_pre-processing\n",
        "    - tumor_mask_pre-processing\n",
        "\n",
        "---\n",
        "\n",
        "###1. FindCoordinates\n",
        "####접근 방법:\n",
        "    \n",
        "    - mask img는 정확히 흑, 백(grayscare)으로 나눠져 있으니 픽셀단위로 접근하여 최소직사각형을 구하자.\n",
        "\n",
        "   - **opencv에서 제공하는 contours, hierarchy 함수를 사용함.**\n",
        "\n"
      ]
    },
    {
      "cell_type": "code",
      "metadata": {
        "id": "y4Kb_C1dpdk1",
        "colab_type": "code",
        "colab": {}
      },
      "source": [
        "def find_coordinates(DATA_KIND, SAVE_PATH):\n",
        "    \n",
        "    coordinates_list = []\n",
        "    #이미지에서 좌표를 찾는다\n",
        "    for a in DATA_KIND:\n",
        "        \n",
        "        img_binary = cv.imread(a, 0)\n",
        "        contours, hierarchy = cv.findContours(img_binary, cv.RETR_LIST, cv.CHAIN_APPROX_SIMPLE)\n",
        "        basename = os.path.basename(a)\n",
        "        \n",
        "        for cnt in contours:\n",
        "            x, y, w, h = cv.boundingRect(cnt)\n",
        "        #[(x0, y0), (x1, y1)] 형태로 저장\n",
        "\n",
        "        line = []\n",
        "        #왼쪽 아래, 오른쪽 위 좌표 저장\n",
        "        line.append(basename)\n",
        "        line.append(str(x))\n",
        "        line.append(str(y + h))\n",
        "        line.append(str(x + w))\n",
        "        line.append(str(y))\n",
        "                  \n",
        "        coordinates_list.append(line)   \n",
        "     \n",
        "    generate_text(SAVE_PATH, coordinates_list,  '\\n')"
      ],
      "execution_count": 0,
      "outputs": []
    },
    {
      "cell_type": "markdown",
      "metadata": {
        "id": "7RjoU4vGs1p8",
        "colab_type": "text"
      },
      "source": [
        "- find_coordinates 함수는 mask이미지의 최소사각형의 **왼쪽 아래 점과 오른쪽 위의 점**을 리스트에 저장한다. "
      ]
    },
    {
      "cell_type": "code",
      "metadata": {
        "id": "dHx5YAw7tQ0w",
        "colab_type": "code",
        "colab": {}
      },
      "source": [
        "def generate_text(SAVE_PATH, each_coordinates_list,  sep):\n",
        "    \n",
        "    DATA_basename = ['tif', 'png', 'bmp']\n",
        "    \n",
        "    global i\n",
        "    file = open(SAVE_PATH + 'DATA_{}'.format(DATA_basename[i]) + '.txt', 'w')\n",
        "        \n",
        "    for a in range(len(each_coordinates_list)): \n",
        "            \n",
        "        vstr = ''\n",
        "        vstr = vstr + str(each_coordinates_list[a])+ sep         \n",
        "        vstr = vstr.rstrip(sep)\n",
        "           \n",
        "        file.write(vstr)\n",
        "        file.write(\"\\n\")\n",
        "        file.write(\"\\n\")\n",
        "        a += 1\n",
        "        \n",
        "    file.close()\n",
        "       \n",
        "    i += 1"
      ],
      "execution_count": 0,
      "outputs": []
    },
    {
      "cell_type": "markdown",
      "metadata": {
        "id": "CdELnmMgtXjj",
        "colab_type": "text"
      },
      "source": [
        "- generate_text 함수는 find_coordinates 함수 이후에 호출되며, find_coordinates에서 coordinates_list를 반환받아 파일에 저장한다.\n",
        "\n",
        "- DATA_basename는 확장자명이다.\n"
      ]
    },
    {
      "cell_type": "markdown",
      "metadata": {
        "id": "JvHyV_Pxt4ZG",
        "colab_type": "text"
      },
      "source": [
        "---\n",
        "\n",
        "###2. tumor_img_pre-processing\n",
        "\n",
        "###접근방법:\n",
        "\n",
        " - raw_image에서 잘라야 할 부분의 경계가 명확하다. 따라서 blur과 Canny 함수를 이용하여 잘라야 할 부위를 파악한다.\n",
        "\n",
        "- **1단계: 노이즈 제거(Noise Reduction)**\n",
        "\n",
        "         이미지에서 노이즈가 있으면 edge를 제대로 찾기 어렵다. 따라서 가우시안 필터를 이용하여 이미지의 노이즈를 줄여준다.\n",
        "\n",
        "- **2단계: Gradient 값이 높은 부분 찾기**\n",
        "\n",
        "          가우시안 필터로 노이즈가 제거된 이미지를 Canny함수를 이용하여 edge를 검출한다."
      ]
    },
    {
      "cell_type": "code",
      "metadata": {
        "id": "JffZbd90v90h",
        "colab_type": "code",
        "colab": {}
      },
      "source": [
        "def img_cutting(DATA_KIND, SAVE_PATH):\n",
        "\n",
        "    for a in DATA_KIND:\n",
        "\n",
        "        img_color = cv.imread(a)\n",
        "        img_gray = cv.imread(a, cv.IMREAD_GRAYSCALE)\n",
        "        basename = os.path.basename(a)\n",
        "        \n",
        "        #이미지의 윤곽선을 딴다\n",
        "        blur = cv.GaussianBlur(img_gray, ksize = (5, 5), sigmaX = 0)\n",
        "        ret, thresh1 = cv.threshold(blur, 127, 255, cv.THRESH_BINARY)\n",
        "\n",
        "        edged = cv.Canny(blur, 10, 250)\n",
        "\n",
        "\n",
        "        contours, _ = cv.findContours(edged.copy(), cv.RETR_EXTERNAL, cv.CHAIN_APPROX_SIMPLE)\n",
        "\n",
        "\n",
        "        contours_xy = np.array(contours)\n",
        "        contours_xy.shape\n",
        "\n",
        "        #이미지의 x, y의 최대 최소 값을 구한\n",
        "        x_min, x_min = 0, 0\n",
        "        value = list()\n",
        "        \n",
        "        for i in range(len(contours_xy)):\n",
        "            for j in range(len(contours_xy[i])):\n",
        "                value.append(contours_xy[i][j][0][0])\n",
        "                x_min = min(value)\n",
        "                x_max = max(value)\n",
        "\n",
        "\n",
        "        y_min, y_min = 0, 0\n",
        "        value = list()\n",
        "        \n",
        "        for i in range(len(contours_xy)):\n",
        "            for j in range(len(contours_xy[i])):\n",
        "                value.append(contours_xy[i][j][0][1])\n",
        "                y_min = min(value)\n",
        "                y_max = max(value)\n",
        "\n",
        "\n",
        "        x = x_min\n",
        "        y = y_min\n",
        "        w = x_max - x_min\n",
        "        h = y_max - y_min\n",
        "        \n",
        "        img_trim = img_color[y:y+h, x:x+w]\n",
        "        cv.imwrite(SAVE_PATH + basename, img_trim)"
      ],
      "execution_count": 0,
      "outputs": []
    },
    {
      "cell_type": "markdown",
      "metadata": {
        "id": "thduD4kbwJCw",
        "colab_type": "text"
      },
      "source": [
        "- img_cutting 함수는 이미지의 경계 값을 찾고, 그 중 **최소, 최대의 (x, y)값을 검출한 뒤 이미지를 자른다."
      ]
    },
    {
      "cell_type": "markdown",
      "metadata": {
        "id": "Xp2dXpJLwezN",
        "colab_type": "text"
      },
      "source": [
        "---\n",
        "\n",
        "##tumor_mask_pre-processing\n",
        "\n",
        "###접근방법:\n",
        "\n",
        "- tumor_img_pre-processing 함수에서 도출된 x, y, w, h를 받아 mask를 자른다."
      ]
    },
    {
      "cell_type": "code",
      "metadata": {
        "id": "oQqcl_YPxAN5",
        "colab_type": "code",
        "colab": {}
      },
      "source": [
        "def mask_cutting(x, y, w, h, SAVE_PATH_mask, basename, TYPE):\n",
        "    \n",
        "    #data유형에 따라 (_mask + TYPE)를 바꿔줘야 함. \n",
        "    mask_gray = cv.imread(path_mask + basename[:-4] + '_mask'  + TYPE, cv.IMREAD_GRAYSCALE)\n",
        "        \n",
        "    mask_trim = mask_gray[y:y+h, x:x+w]\n",
        "    cv.imwrite(SAVE_PATH_mask + basename[:-4] + '_mask' + TYPE, mask_trim)\n",
        "    print(basename[:-4] + '_mask' + TYPE)"
      ],
      "execution_count": 0,
      "outputs": []
    },
    {
      "cell_type": "markdown",
      "metadata": {
        "id": "zaG7k3GpxG4T",
        "colab_type": "text"
      },
      "source": [
        "- TYPE는 확장자명(.png, .bmp, .tif)이다.\n",
        "\n",
        "- basename[:-4]는 확장자명을 제외한 파일 이름을 불러오기 위함."
      ]
    }
  ]
}