{
 "cells": [
  {
   "cell_type": "code",
   "execution_count": 1,
   "metadata": {},
   "outputs": [
    {
     "name": "stderr",
     "output_type": "stream",
     "text": [
      "Using TensorFlow backend.\n",
      "C:\\Users\\idong\\Anaconda3\\envs\\tens_gpu\\lib\\site-packages\\tensorflow\\python\\framework\\dtypes.py:516: FutureWarning: Passing (type, 1) or '1type' as a synonym of type is deprecated; in a future version of numpy, it will be understood as (type, (1,)) / '(1,)type'.\n",
      "  _np_qint8 = np.dtype([(\"qint8\", np.int8, 1)])\n",
      "C:\\Users\\idong\\Anaconda3\\envs\\tens_gpu\\lib\\site-packages\\tensorflow\\python\\framework\\dtypes.py:517: FutureWarning: Passing (type, 1) or '1type' as a synonym of type is deprecated; in a future version of numpy, it will be understood as (type, (1,)) / '(1,)type'.\n",
      "  _np_quint8 = np.dtype([(\"quint8\", np.uint8, 1)])\n",
      "C:\\Users\\idong\\Anaconda3\\envs\\tens_gpu\\lib\\site-packages\\tensorflow\\python\\framework\\dtypes.py:518: FutureWarning: Passing (type, 1) or '1type' as a synonym of type is deprecated; in a future version of numpy, it will be understood as (type, (1,)) / '(1,)type'.\n",
      "  _np_qint16 = np.dtype([(\"qint16\", np.int16, 1)])\n",
      "C:\\Users\\idong\\Anaconda3\\envs\\tens_gpu\\lib\\site-packages\\tensorflow\\python\\framework\\dtypes.py:519: FutureWarning: Passing (type, 1) or '1type' as a synonym of type is deprecated; in a future version of numpy, it will be understood as (type, (1,)) / '(1,)type'.\n",
      "  _np_quint16 = np.dtype([(\"quint16\", np.uint16, 1)])\n",
      "C:\\Users\\idong\\Anaconda3\\envs\\tens_gpu\\lib\\site-packages\\tensorflow\\python\\framework\\dtypes.py:520: FutureWarning: Passing (type, 1) or '1type' as a synonym of type is deprecated; in a future version of numpy, it will be understood as (type, (1,)) / '(1,)type'.\n",
      "  _np_qint32 = np.dtype([(\"qint32\", np.int32, 1)])\n",
      "C:\\Users\\idong\\Anaconda3\\envs\\tens_gpu\\lib\\site-packages\\tensorflow\\python\\framework\\dtypes.py:525: FutureWarning: Passing (type, 1) or '1type' as a synonym of type is deprecated; in a future version of numpy, it will be understood as (type, (1,)) / '(1,)type'.\n",
      "  np_resource = np.dtype([(\"resource\", np.ubyte, 1)])\n",
      "C:\\Users\\idong\\Anaconda3\\envs\\tens_gpu\\lib\\site-packages\\tensorboard\\compat\\tensorflow_stub\\dtypes.py:541: FutureWarning: Passing (type, 1) or '1type' as a synonym of type is deprecated; in a future version of numpy, it will be understood as (type, (1,)) / '(1,)type'.\n",
      "  _np_qint8 = np.dtype([(\"qint8\", np.int8, 1)])\n",
      "C:\\Users\\idong\\Anaconda3\\envs\\tens_gpu\\lib\\site-packages\\tensorboard\\compat\\tensorflow_stub\\dtypes.py:542: FutureWarning: Passing (type, 1) or '1type' as a synonym of type is deprecated; in a future version of numpy, it will be understood as (type, (1,)) / '(1,)type'.\n",
      "  _np_quint8 = np.dtype([(\"quint8\", np.uint8, 1)])\n",
      "C:\\Users\\idong\\Anaconda3\\envs\\tens_gpu\\lib\\site-packages\\tensorboard\\compat\\tensorflow_stub\\dtypes.py:543: FutureWarning: Passing (type, 1) or '1type' as a synonym of type is deprecated; in a future version of numpy, it will be understood as (type, (1,)) / '(1,)type'.\n",
      "  _np_qint16 = np.dtype([(\"qint16\", np.int16, 1)])\n",
      "C:\\Users\\idong\\Anaconda3\\envs\\tens_gpu\\lib\\site-packages\\tensorboard\\compat\\tensorflow_stub\\dtypes.py:544: FutureWarning: Passing (type, 1) or '1type' as a synonym of type is deprecated; in a future version of numpy, it will be understood as (type, (1,)) / '(1,)type'.\n",
      "  _np_quint16 = np.dtype([(\"quint16\", np.uint16, 1)])\n",
      "C:\\Users\\idong\\Anaconda3\\envs\\tens_gpu\\lib\\site-packages\\tensorboard\\compat\\tensorflow_stub\\dtypes.py:545: FutureWarning: Passing (type, 1) or '1type' as a synonym of type is deprecated; in a future version of numpy, it will be understood as (type, (1,)) / '(1,)type'.\n",
      "  _np_qint32 = np.dtype([(\"qint32\", np.int32, 1)])\n",
      "C:\\Users\\idong\\Anaconda3\\envs\\tens_gpu\\lib\\site-packages\\tensorboard\\compat\\tensorflow_stub\\dtypes.py:550: FutureWarning: Passing (type, 1) or '1type' as a synonym of type is deprecated; in a future version of numpy, it will be understood as (type, (1,)) / '(1,)type'.\n",
      "  np_resource = np.dtype([(\"resource\", np.ubyte, 1)])\n"
     ]
    }
   ],
   "source": [
    "import os\n",
    "import numpy as np\n",
    "import keras\n",
    "from keras.applications import ResNet50V2\n",
    "from keras import models\n",
    "from keras import layers\n",
    "from sklearn.model_selection import train_test_split\n",
    "from keras.utils import to_categorical\n",
    "from keras import optimizers\n",
    "import matplotlib.pyplot as plt\n",
    "import cv2\n",
    "from keras.layers import Dropout\n",
    "from tensorflow.keras import backend as K\n",
    "import tensorflow as tf\n",
    "from keras.callbacks import ReduceLROnPlateau\n",
    "from keras.preprocessing.image import ImageDataGenerator\n",
    "import csv\n",
    "import pandas as pd"
   ]
  },
  {
   "cell_type": "code",
   "execution_count": 2,
   "metadata": {},
   "outputs": [],
   "source": [
    "base_dir = r'D:\\dataset\\dental\\data'\n",
    "\n",
    "data = np.load(base_dir + '\\\\data_KNU_Diorco_so_imgs.npy')\n",
    "label_csv= open(base_dir + '\\\\data_KNU_Diorco_so_img_labels.csv', 'r')\n",
    "label = csv.reader(label_csv)"
   ]
  },
  {
   "cell_type": "markdown",
   "metadata": {},
   "source": [
    "# 모델 1,2,3,4 데이터셋"
   ]
  },
  {
   "cell_type": "code",
   "execution_count": 3,
   "metadata": {},
   "outputs": [],
   "source": [
    "right_label = np.load(base_dir + '\\\\right_label.npy')\n",
    "left_label = np.load(base_dir + '\\\\left_label.npy')"
   ]
  },
  {
   "cell_type": "code",
   "execution_count": 4,
   "metadata": {},
   "outputs": [],
   "source": [
    "right = data[:,:,:, 0:3]\n",
    "left = data[:,:,:, 3:7]\n",
    "\n",
    "patient_data = []\n",
    "patient_data.extend(left)\n",
    "patient_data.extend(right)\n",
    "patient_data = np.array(patient_data)\n",
    "\n",
    "patient_labels = []\n",
    "patient_labels.extend(left_label)\n",
    "patient_labels.extend(right_label)\n",
    "patient_labels = np.array(patient_labels)"
   ]
  },
  {
   "cell_type": "code",
   "execution_count": 5,
   "metadata": {},
   "outputs": [],
   "source": [
    "train_data, test_data, train_label, test_label= train_test_split(patient_data, patient_labels, test_size = 0.2, random_state = 33, shuffle = True)\n",
    "train_data, val_data, train_label, val_label = train_test_split(train_data, train_label, test_size = 0.2, random_state = 33, shuffle = True)"
   ]
  },
  {
   "cell_type": "code",
   "execution_count": 6,
   "metadata": {},
   "outputs": [],
   "source": [
    "#원 핫 인코딩을 위해 label을 바꿈\n",
    "one_hot_train_labels = to_categorical(train_label - 1)\n",
    "one_hot_validation_labels = to_categorical(val_label  - 1)\n",
    "one_hot_test_labels = to_categorical(test_label - 1)"
   ]
  },
  {
   "cell_type": "code",
   "execution_count": 7,
   "metadata": {},
   "outputs": [],
   "source": [
    "train_data = train_data.astype(np.float32) / 127.5 - 1\n",
    "test_data = test_data.astype(np.float32) / 127.5 - 1\n",
    "val_data = val_data.astype(np.float32) / 127.5 - 1"
   ]
  },
  {
   "cell_type": "markdown",
   "metadata": {},
   "source": [
    "# 모델5 data_set"
   ]
  },
  {
   "cell_type": "code",
   "execution_count": 3,
   "metadata": {},
   "outputs": [],
   "source": [
    "right_label = np.load(base_dir + '\\\\right_label.npy')\n",
    "left_label = np.load(base_dir + '\\\\left_label.npy')\n",
    "\n",
    "right = data[:,:,:, 0:3]\n",
    "left = data[:,:,:, 3:7]\n",
    "\n",
    "patient_datas = np.load(r'D:\\dataset\\dental\\data\\preprocessing\\patient_data_2.npy', allow_pickle=True)\n",
    "patient_labels = np.load(r'D:\\dataset\\dental\\data\\preprocessing\\patient_label_2.npy', allow_pickle=True)\n",
    "\n",
    "train_data, test_data, train_label, test_label= train_test_split(patient_datas, patient_labels, test_size = 0.2, random_state = 123)\n",
    "train_data, val_data, train_label, val_label = train_test_split(train_data, train_label, test_size = 0.2, random_state = 123)\n",
    "\n",
    "train_label = np.array(train_label)\n",
    "test_label = np.array(test_label)\n",
    "val_label = np.array(val_label)\n",
    "\n",
    "#원 핫 인코딩을 위해 label을 바꿈\n",
    "one_hot_train_labels = to_categorical(train_label - 1)\n",
    "one_hot_validation_labels = to_categorical(val_label - 1)\n",
    "one_hot_test_labels = to_categorical(test_label - 1)\n",
    "\n",
    "real_train = []\n",
    "real_val = []\n",
    "real_test = []\n",
    "\n",
    "def flat_datas(data, data_name):\n",
    "    for m in range(len(data)):\n",
    "        for j in range(4):\n",
    "            data_name.append(data[m][j])\n",
    "\n",
    "flat_datas(train_data, real_train)\n",
    "flat_datas(val_data, real_val)\n",
    "flat_datas(test_data, real_test)\n",
    "\n",
    "train_data = np.array(real_train)\n",
    "val_data = np.array(real_val)\n",
    "test_data = np.array(real_test)\n",
    "\n",
    "real_train_l = []\n",
    "real_val_l = []\n",
    "real_test_l = []\n",
    "\n",
    "def flat_labels(label, label_name):\n",
    "    for m in range(len(label)):\n",
    "        for j in range(4):\n",
    "            label_name.append(label[m][j])\n",
    "\n",
    "flat_labels(one_hot_train_labels, real_train_l)\n",
    "flat_labels(one_hot_validation_labels, real_val_l)\n",
    "flat_labels(one_hot_test_labels, real_test_l)\n",
    "\n",
    "one_hot_train_labels = np.array(real_train_l)\n",
    "one_hot_val_labels = np.array(real_val_l)\n",
    "one_hot_test_labels = np.array(real_test_l)\n",
    "\n",
    "train_data = train_data.astype(np.float32) / 127.5 - 1\n",
    "test_data = test_data.astype(np.float32) / 127.5 - 1\n",
    "val_data = val_data.astype(np.float32) / 127.5 - 1"
   ]
  },
  {
   "cell_type": "markdown",
   "metadata": {},
   "source": [
    "## 1번 모델 test"
   ]
  },
  {
   "cell_type": "code",
   "execution_count": 6,
   "metadata": {},
   "outputs": [
    {
     "name": "stdout",
     "output_type": "stream",
     "text": [
      "WARNING:tensorflow:From C:\\Users\\idong\\Anaconda3\\envs\\tens_gpu\\lib\\site-packages\\keras\\backend\\tensorflow_backend.py:4070: The name tf.nn.max_pool is deprecated. Please use tf.nn.max_pool2d instead.\n",
      "\n",
      "WARNING:tensorflow:From C:\\Users\\idong\\Anaconda3\\envs\\tens_gpu\\lib\\site-packages\\keras\\backend\\tensorflow_backend.py:422: The name tf.global_variables is deprecated. Please use tf.compat.v1.global_variables instead.\n",
      "\n"
     ]
    }
   ],
   "source": [
    "model = models.load_model('real_dental_ResNet50V2_2.h5')\n",
    "model.load_weights('real_dental_ResNet50V2_2.h5')"
   ]
  },
  {
   "cell_type": "code",
   "execution_count": 9,
   "metadata": {},
   "outputs": [
    {
     "name": "stdout",
     "output_type": "stream",
     "text": [
      "WARNING:tensorflow:From C:\\Users\\idong\\Anaconda3\\envs\\tens_gpu\\lib\\site-packages\\keras\\backend\\tensorflow_backend.py:422: The name tf.global_variables is deprecated. Please use tf.compat.v1.global_variables instead.\n",
      "\n"
     ]
    }
   ],
   "source": [
    "model = models.load_model('real_dental_ResNet50V2_3.h5')\n",
    "model.load_weights('real_dental_ResNet50V2_3.h5')"
   ]
  },
  {
   "cell_type": "code",
   "execution_count": 10,
   "metadata": {},
   "outputs": [
    {
     "name": "stdout",
     "output_type": "stream",
     "text": [
      "324/324 [==============================] - 22s 69ms/step\n",
      "test acc: 0.5524691343307495\n"
     ]
    }
   ],
   "source": [
    "test_loss, test_acc = model.evaluate(test_data, one_hot_test_labels)\n",
    "print('test acc:' , test_acc)"
   ]
  },
  {
   "cell_type": "markdown",
   "metadata": {},
   "source": [
    "## 2번 모델 test"
   ]
  },
  {
   "cell_type": "code",
   "execution_count": 17,
   "metadata": {},
   "outputs": [],
   "source": [
    "model = models.load_model('real2_dental_ResNet50V2_2.h5')\n",
    "model.load_weights('real2_dental_ResNet50V2_2.h5')"
   ]
  },
  {
   "cell_type": "code",
   "execution_count": 18,
   "metadata": {},
   "outputs": [
    {
     "name": "stdout",
     "output_type": "stream",
     "text": [
      "324/324 [==============================] - 17s 51ms/step\n",
      "test acc: 0.5987654328346252\n"
     ]
    }
   ],
   "source": [
    "test_loss, test_acc = model.evaluate(test_data, one_hot_test_labels)\n",
    "print('test acc:' , test_acc)"
   ]
  },
  {
   "cell_type": "code",
   "execution_count": 8,
   "metadata": {},
   "outputs": [
    {
     "name": "stdout",
     "output_type": "stream",
     "text": [
      "WARNING:tensorflow:From C:\\Users\\idong\\Anaconda3\\envs\\tens_gpu\\lib\\site-packages\\keras\\backend\\tensorflow_backend.py:4070: The name tf.nn.max_pool is deprecated. Please use tf.nn.max_pool2d instead.\n",
      "\n",
      "WARNING:tensorflow:From C:\\Users\\idong\\Anaconda3\\envs\\tens_gpu\\lib\\site-packages\\keras\\backend\\tensorflow_backend.py:422: The name tf.global_variables is deprecated. Please use tf.compat.v1.global_variables instead.\n",
      "\n"
     ]
    }
   ],
   "source": [
    "model = models.load_model('real2_dental_ResNet50V2_3.h5')\n",
    "model.load_weights('real2_dental_ResNet50V2_3.h5')"
   ]
  },
  {
   "cell_type": "code",
   "execution_count": 9,
   "metadata": {},
   "outputs": [
    {
     "name": "stdout",
     "output_type": "stream",
     "text": [
      "324/324 [==============================] - 22s 68ms/step\n",
      "test acc: 0.5925925970077515\n"
     ]
    }
   ],
   "source": [
    "test_loss, test_acc = model.evaluate(test_data, one_hot_test_labels)\n",
    "print('test acc:' , test_acc)"
   ]
  },
  {
   "cell_type": "markdown",
   "metadata": {},
   "source": [
    "## 3번 모델 test"
   ]
  },
  {
   "cell_type": "code",
   "execution_count": 19,
   "metadata": {},
   "outputs": [],
   "source": [
    "model = models.load_model('real3_dental_ResNet50V2_3.h5')\n",
    "model.load_weights('real3_dental_ResNet50V2_3.h5')"
   ]
  },
  {
   "cell_type": "code",
   "execution_count": 20,
   "metadata": {},
   "outputs": [
    {
     "name": "stdout",
     "output_type": "stream",
     "text": [
      "324/324 [==============================] - 16s 50ms/step\n",
      "test acc: 0.6358024477958679\n"
     ]
    }
   ],
   "source": [
    "test_loss, test_acc = model.evaluate(test_data, one_hot_test_labels)\n",
    "print('test acc:' , test_acc)"
   ]
  },
  {
   "cell_type": "markdown",
   "metadata": {},
   "source": [
    "# 4번 모델 test"
   ]
  },
  {
   "cell_type": "code",
   "execution_count": 9,
   "metadata": {},
   "outputs": [
    {
     "name": "stdout",
     "output_type": "stream",
     "text": [
      "WARNING:tensorflow:From C:\\Users\\idong\\Anaconda3\\envs\\tens_gpu\\lib\\site-packages\\keras\\backend\\tensorflow_backend.py:4070: The name tf.nn.max_pool is deprecated. Please use tf.nn.max_pool2d instead.\n",
      "\n",
      "WARNING:tensorflow:From C:\\Users\\idong\\Anaconda3\\envs\\tens_gpu\\lib\\site-packages\\keras\\backend\\tensorflow_backend.py:422: The name tf.global_variables is deprecated. Please use tf.compat.v1.global_variables instead.\n",
      "\n"
     ]
    }
   ],
   "source": [
    "model = models.load_model('real4_dental_ResNet50V2_2.h5')\n",
    "model.load_weights('real4_dental_ResNet50V2_2.h5')"
   ]
  },
  {
   "cell_type": "code",
   "execution_count": 10,
   "metadata": {},
   "outputs": [
    {
     "name": "stdout",
     "output_type": "stream",
     "text": [
      "324/324 [==============================] - 23s 71ms/step\n",
      "test acc: 0.6388888955116272\n"
     ]
    }
   ],
   "source": [
    "test_loss, test_acc = model.evaluate(test_data, one_hot_test_labels)\n",
    "print('test acc:' , test_acc)"
   ]
  },
  {
   "cell_type": "markdown",
   "metadata": {},
   "source": [
    "# 5번 모델 test"
   ]
  },
  {
   "cell_type": "code",
   "execution_count": 4,
   "metadata": {},
   "outputs": [
    {
     "name": "stdout",
     "output_type": "stream",
     "text": [
      "WARNING:tensorflow:From C:\\Users\\idong\\Anaconda3\\envs\\tens_gpu\\lib\\site-packages\\keras\\backend\\tensorflow_backend.py:4070: The name tf.nn.max_pool is deprecated. Please use tf.nn.max_pool2d instead.\n",
      "\n",
      "WARNING:tensorflow:From C:\\Users\\idong\\Anaconda3\\envs\\tens_gpu\\lib\\site-packages\\keras\\backend\\tensorflow_backend.py:422: The name tf.global_variables is deprecated. Please use tf.compat.v1.global_variables instead.\n",
      "\n"
     ]
    }
   ],
   "source": [
    "model = models.load_model('real5_dental_ResNet50V2_3.h5')\n",
    "model.load_weights('real5_dental_ResNet50V2_3.h5')"
   ]
  },
  {
   "cell_type": "code",
   "execution_count": 5,
   "metadata": {},
   "outputs": [
    {
     "name": "stdout",
     "output_type": "stream",
     "text": [
      "324/324 [==============================] - 23s 71ms/step\n",
      "test acc: 0.5586419701576233\n"
     ]
    }
   ],
   "source": [
    "test_loss, test_acc = model.evaluate(test_data, one_hot_test_labels)\n",
    "print('test acc:' , test_acc)"
   ]
  }
 ],
 "metadata": {
  "kernelspec": {
   "display_name": "Python 3",
   "language": "python",
   "name": "python3"
  },
  "language_info": {
   "codemirror_mode": {
    "name": "ipython",
    "version": 3
   },
   "file_extension": ".py",
   "mimetype": "text/x-python",
   "name": "python",
   "nbconvert_exporter": "python",
   "pygments_lexer": "ipython3",
   "version": "3.7.1"
  }
 },
 "nbformat": 4,
 "nbformat_minor": 4
}
