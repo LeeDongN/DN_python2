{
 "cells": [
  {
   "cell_type": "code",
   "execution_count": 1,
   "metadata": {},
   "outputs": [
    {
     "name": "stderr",
     "output_type": "stream",
     "text": [
      "Using TensorFlow backend.\n",
      "C:\\Users\\idong\\Anaconda3\\envs\\tens_gpu\\lib\\site-packages\\tensorflow\\python\\framework\\dtypes.py:516: FutureWarning: Passing (type, 1) or '1type' as a synonym of type is deprecated; in a future version of numpy, it will be understood as (type, (1,)) / '(1,)type'.\n",
      "  _np_qint8 = np.dtype([(\"qint8\", np.int8, 1)])\n",
      "C:\\Users\\idong\\Anaconda3\\envs\\tens_gpu\\lib\\site-packages\\tensorflow\\python\\framework\\dtypes.py:517: FutureWarning: Passing (type, 1) or '1type' as a synonym of type is deprecated; in a future version of numpy, it will be understood as (type, (1,)) / '(1,)type'.\n",
      "  _np_quint8 = np.dtype([(\"quint8\", np.uint8, 1)])\n",
      "C:\\Users\\idong\\Anaconda3\\envs\\tens_gpu\\lib\\site-packages\\tensorflow\\python\\framework\\dtypes.py:518: FutureWarning: Passing (type, 1) or '1type' as a synonym of type is deprecated; in a future version of numpy, it will be understood as (type, (1,)) / '(1,)type'.\n",
      "  _np_qint16 = np.dtype([(\"qint16\", np.int16, 1)])\n",
      "C:\\Users\\idong\\Anaconda3\\envs\\tens_gpu\\lib\\site-packages\\tensorflow\\python\\framework\\dtypes.py:519: FutureWarning: Passing (type, 1) or '1type' as a synonym of type is deprecated; in a future version of numpy, it will be understood as (type, (1,)) / '(1,)type'.\n",
      "  _np_quint16 = np.dtype([(\"quint16\", np.uint16, 1)])\n",
      "C:\\Users\\idong\\Anaconda3\\envs\\tens_gpu\\lib\\site-packages\\tensorflow\\python\\framework\\dtypes.py:520: FutureWarning: Passing (type, 1) or '1type' as a synonym of type is deprecated; in a future version of numpy, it will be understood as (type, (1,)) / '(1,)type'.\n",
      "  _np_qint32 = np.dtype([(\"qint32\", np.int32, 1)])\n",
      "C:\\Users\\idong\\Anaconda3\\envs\\tens_gpu\\lib\\site-packages\\tensorflow\\python\\framework\\dtypes.py:525: FutureWarning: Passing (type, 1) or '1type' as a synonym of type is deprecated; in a future version of numpy, it will be understood as (type, (1,)) / '(1,)type'.\n",
      "  np_resource = np.dtype([(\"resource\", np.ubyte, 1)])\n",
      "C:\\Users\\idong\\Anaconda3\\envs\\tens_gpu\\lib\\site-packages\\tensorboard\\compat\\tensorflow_stub\\dtypes.py:541: FutureWarning: Passing (type, 1) or '1type' as a synonym of type is deprecated; in a future version of numpy, it will be understood as (type, (1,)) / '(1,)type'.\n",
      "  _np_qint8 = np.dtype([(\"qint8\", np.int8, 1)])\n",
      "C:\\Users\\idong\\Anaconda3\\envs\\tens_gpu\\lib\\site-packages\\tensorboard\\compat\\tensorflow_stub\\dtypes.py:542: FutureWarning: Passing (type, 1) or '1type' as a synonym of type is deprecated; in a future version of numpy, it will be understood as (type, (1,)) / '(1,)type'.\n",
      "  _np_quint8 = np.dtype([(\"quint8\", np.uint8, 1)])\n",
      "C:\\Users\\idong\\Anaconda3\\envs\\tens_gpu\\lib\\site-packages\\tensorboard\\compat\\tensorflow_stub\\dtypes.py:543: FutureWarning: Passing (type, 1) or '1type' as a synonym of type is deprecated; in a future version of numpy, it will be understood as (type, (1,)) / '(1,)type'.\n",
      "  _np_qint16 = np.dtype([(\"qint16\", np.int16, 1)])\n",
      "C:\\Users\\idong\\Anaconda3\\envs\\tens_gpu\\lib\\site-packages\\tensorboard\\compat\\tensorflow_stub\\dtypes.py:544: FutureWarning: Passing (type, 1) or '1type' as a synonym of type is deprecated; in a future version of numpy, it will be understood as (type, (1,)) / '(1,)type'.\n",
      "  _np_quint16 = np.dtype([(\"quint16\", np.uint16, 1)])\n",
      "C:\\Users\\idong\\Anaconda3\\envs\\tens_gpu\\lib\\site-packages\\tensorboard\\compat\\tensorflow_stub\\dtypes.py:545: FutureWarning: Passing (type, 1) or '1type' as a synonym of type is deprecated; in a future version of numpy, it will be understood as (type, (1,)) / '(1,)type'.\n",
      "  _np_qint32 = np.dtype([(\"qint32\", np.int32, 1)])\n",
      "C:\\Users\\idong\\Anaconda3\\envs\\tens_gpu\\lib\\site-packages\\tensorboard\\compat\\tensorflow_stub\\dtypes.py:550: FutureWarning: Passing (type, 1) or '1type' as a synonym of type is deprecated; in a future version of numpy, it will be understood as (type, (1,)) / '(1,)type'.\n",
      "  np_resource = np.dtype([(\"resource\", np.ubyte, 1)])\n"
     ]
    }
   ],
   "source": [
    "import os\n",
    "import numpy as np\n",
    "import keras\n",
    "from keras.applications import ResNet50V2\n",
    "from keras import models\n",
    "from keras import layers\n",
    "from sklearn.model_selection import train_test_split\n",
    "from keras.utils import to_categorical\n",
    "from keras import optimizers\n",
    "import matplotlib.pyplot as plt\n",
    "import cv2\n",
    "from keras.layers import Dropout\n",
    "from tensorflow.keras import backend as K\n",
    "import tensorflow as tf\n",
    "from keras.callbacks import ReduceLROnPlateau\n",
    "from keras.preprocessing.image import ImageDataGenerator\n",
    "import csv\n",
    "import pandas as pd"
   ]
  },
  {
   "cell_type": "code",
   "execution_count": 3,
   "metadata": {},
   "outputs": [],
   "source": [
    "base_dir = r'D:\\dataset\\dental\\data'\n",
    "\n",
    "data = np.load(base_dir + '\\\\data_KNU_Diorco_so_imgs.npy')\n",
    "label_csv= open(base_dir + '\\\\data_KNU_Diorco_so_img_labels.csv', 'r')\n",
    "label = csv.reader(label_csv)"
   ]
  },
  {
   "cell_type": "code",
   "execution_count": 3,
   "metadata": {},
   "outputs": [],
   "source": [
    "right_label = []\n",
    "left_label = []\n",
    "\n",
    "for line in label:\n",
    "    right_label.append(line[3])\n",
    "    left_label.append(line[4])\n",
    "\n",
    "right_label = right_label[1:]\n",
    "left_label = left_label[1:]\n",
    "\n",
    "right_label = list(map(int, right_label))\n",
    "left_label = list(map(int, left_label))\n",
    "\n",
    "right_label = np.array(right_label)\n",
    "left_label = np.array(left_label)\n",
    "\n",
    "np.save(base_dir + '\\\\right_label_2.npy', right_label)\n",
    "np.save(base_dir + '\\\\left_label_2.npy', left_label)"
   ]
  },
  {
   "cell_type": "code",
   "execution_count": 4,
   "metadata": {},
   "outputs": [],
   "source": [
    "right_label = np.load(base_dir + '\\\\right_label.npy')\n",
    "left_label = np.load(base_dir + '\\\\left_label.npy')\n",
    "\n",
    "right = data[:,:,:, 0:3]\n",
    "left = data[:,:,:, 3:7]"
   ]
  },
  {
   "cell_type": "code",
   "execution_count": 5,
   "metadata": {},
   "outputs": [],
   "source": [
    "patient_datas = []\n",
    "patient_labels = []\n",
    "\n",
    "for i in range(0, 797, 2):\n",
    "    tmp_data = []\n",
    "    tmp_data.append(left[i])\n",
    "    tmp_data.append(right[i])\n",
    "    tmp_data.append(left[i+1])\n",
    "    tmp_data.append(right[i+1])\n",
    "    patient_datas.append(tmp_data)\n",
    "    \n",
    "    tmp_label = []\n",
    "    tmp_label.append(left_label[i])\n",
    "    tmp_label.append(right_label[i])\n",
    "    tmp_label.append(left_label[i+1])\n",
    "    tmp_label.append(right_label[i+1])\n",
    "    patient_labels.append(tmp_label)\n",
    "\n",
    "    \n",
    "for k in range(799, 808, 2):\n",
    "    tmp_data = []\n",
    "    tmp_data.append(left[k])\n",
    "    tmp_data.append(right[k])\n",
    "    tmp_data.append(left[k+1])\n",
    "    tmp_data.append(right[k+1])\n",
    "    patient_datas.append(tmp_data)\n",
    "    \n",
    "    tmp_label = []\n",
    "    tmp_label.append(left_label[k])\n",
    "    tmp_label.append(right_label[k])\n",
    "    tmp_label.append(left_label[k+1])\n",
    "    tmp_label.append(right_label[k+1])\n",
    "    patient_labels.append(tmp_label)"
   ]
  },
  {
   "cell_type": "code",
   "execution_count": null,
   "metadata": {},
   "outputs": [],
   "source": [
    "np.save(r'D:\\dataset\\dental\\data\\preprocessing\\patient_data_2.npy', patient_datas)\n",
    "np.save(r'D:\\dataset\\dental\\data\\preprocessing\\patient_label_2.npy', patient_labels)"
   ]
  },
  {
   "cell_type": "code",
   "execution_count": 5,
   "metadata": {},
   "outputs": [],
   "source": [
    "patient_datas = np.load(r'D:\\dataset\\dental\\data\\preprocessing\\patient_data_2.npy', allow_pickle=True)\n",
    "patient_labels = np.load(r'D:\\dataset\\dental\\data\\preprocessing\\patient_label_2.npy', allow_pickle=True)"
   ]
  },
  {
   "cell_type": "code",
   "execution_count": 6,
   "metadata": {},
   "outputs": [],
   "source": [
    "train_data, test_data, train_label, test_label= train_test_split(patient_datas, patient_labels, test_size = 0.2, random_state = 123)\n",
    "train_data, val_data, train_label, val_label = train_test_split(train_data, train_label, test_size = 0.2, random_state = 123)"
   ]
  },
  {
   "cell_type": "code",
   "execution_count": 7,
   "metadata": {},
   "outputs": [],
   "source": [
    "train_label = np.array(train_label)\n",
    "test_label = np.array(test_label)\n",
    "val_label = np.array(val_label)"
   ]
  },
  {
   "cell_type": "code",
   "execution_count": 8,
   "metadata": {},
   "outputs": [],
   "source": [
    "#원 핫 인코딩을 위해 label을 바꿈\n",
    "one_hot_train_labels = to_categorical(train_label - 1)\n",
    "one_hot_validation_labels = to_categorical(val_label - 1)\n",
    "one_hot_test_labels = to_categorical(test_label - 1)"
   ]
  },
  {
   "cell_type": "code",
   "execution_count": 9,
   "metadata": {},
   "outputs": [],
   "source": [
    "real_train = []\n",
    "real_val = []\n",
    "real_test = []\n",
    "\n",
    "def flat_datas(data, data_name):\n",
    "    for m in range(len(data)):\n",
    "        for j in range(4):\n",
    "            data_name.append(data[m][j])\n",
    "\n",
    "flat_datas(train_data, real_train)\n",
    "flat_datas(val_data, real_val)\n",
    "flat_datas(test_data, real_test)"
   ]
  },
  {
   "cell_type": "code",
   "execution_count": 10,
   "metadata": {},
   "outputs": [],
   "source": [
    "train_data = np.array(real_train)\n",
    "val_data = np.array(real_val)\n",
    "test_data = np.array(real_test)"
   ]
  },
  {
   "cell_type": "code",
   "execution_count": 11,
   "metadata": {},
   "outputs": [
    {
     "name": "stdout",
     "output_type": "stream",
     "text": [
      "(324, 480, 784, 3)\n",
      "(1032, 480, 784, 3)\n",
      "(260, 480, 784, 3)\n"
     ]
    }
   ],
   "source": [
    "print(test_data.shape)\n",
    "print(train_data.shape)\n",
    "print(val_data.shape)"
   ]
  },
  {
   "cell_type": "code",
   "execution_count": 12,
   "metadata": {},
   "outputs": [],
   "source": [
    "real_train_l = []\n",
    "real_val_l = []\n",
    "real_test_l = []\n",
    "\n",
    "def flat_labels(label, label_name):\n",
    "    for m in range(len(label)):\n",
    "        for j in range(4):\n",
    "            label_name.append(label[m][j])\n",
    "\n",
    "flat_labels(one_hot_train_labels, real_train_l)\n",
    "flat_labels(one_hot_validation_labels, real_val_l)\n",
    "flat_labels(one_hot_test_labels, real_test_l)"
   ]
  },
  {
   "cell_type": "code",
   "execution_count": 13,
   "metadata": {},
   "outputs": [],
   "source": [
    "one_hot_train_labels = np.array(real_train_l)\n",
    "one_hot_val_labels = np.array(real_val_l)\n",
    "one_hot_test_labels = np.array(real_test_l)"
   ]
  },
  {
   "cell_type": "code",
   "execution_count": 14,
   "metadata": {},
   "outputs": [],
   "source": [
    "train_data = train_data.astype(np.float32) / 127.5 - 1\n",
    "test_data = test_data.astype(np.float32) / 127.5 - 1\n",
    "val_data = val_data.astype(np.float32) / 127.5 - 1"
   ]
  },
  {
   "cell_type": "code",
   "execution_count": 15,
   "metadata": {},
   "outputs": [],
   "source": [
    "datagen = ImageDataGenerator(rotation_range = 10,\n",
    "                                  width_shift_range=0.1,\n",
    "                                  height_shift_range=0.1,\n",
    "                                  shear_range=0.1,\n",
    "                                  zoom_range=0.1,\n",
    "                                  horizontal_flip=False,\n",
    "                                  vertical_flip=False,\n",
    "                                  fill_mode='nearest'\n",
    "                                 )"
   ]
  },
  {
   "cell_type": "code",
   "execution_count": 16,
   "metadata": {},
   "outputs": [
    {
     "name": "stderr",
     "output_type": "stream",
     "text": [
      "C:\\Users\\idong\\Anaconda3\\envs\\tens_gpu\\lib\\site-packages\\keras_preprocessing\\image\\image_data_generator.py:336: UserWarning: This ImageDataGenerator specifies `zca_whitening`, which overrides setting of `featurewise_center`.\n",
      "  warnings.warn('This ImageDataGenerator specifies '\n"
     ]
    }
   ],
   "source": [
    "datagen = ImageDataGenerator(zca_whitening=True)"
   ]
  },
  {
   "cell_type": "code",
   "execution_count": 23,
   "metadata": {},
   "outputs": [
    {
     "name": "stderr",
     "output_type": "stream",
     "text": [
      "C:\\Users\\idong\\Anaconda3\\envs\\tens_gpu\\lib\\site-packages\\keras\\callbacks\\callbacks.py:788: RuntimeWarning: EarlyStopping mode <built-in function max> is unknown, fallback to auto mode.\n",
      "  RuntimeWarning)\n"
     ]
    }
   ],
   "source": [
    "callbacks_list_clf = [\n",
    "    keras.callbacks.EarlyStopping(\n",
    "        monitor='acc',\n",
    "        patience = 19,\n",
    "        mode = max\n",
    "    ),\n",
    "    keras.callbacks.ModelCheckpoint(\n",
    "        filepath='real5_dental_ResNet50V2_clf.h5',\n",
    "        monitor='val_acc',\n",
    "        save_best_only=False,\n",
    "        period = 1\n",
    "    ),\n",
    "    keras.callbacks.ReduceLROnPlateau(\n",
    "    monitor = 'val_loss',\n",
    "    factor = 0.1,\n",
    "    patience = 10)\n",
    "]"
   ]
  },
  {
   "cell_type": "code",
   "execution_count": 24,
   "metadata": {},
   "outputs": [
    {
     "name": "stdout",
     "output_type": "stream",
     "text": [
      "WARNING:tensorflow:From C:\\Users\\idong\\Anaconda3\\envs\\tens_gpu\\lib\\site-packages\\keras\\backend\\tensorflow_backend.py:4070: The name tf.nn.max_pool is deprecated. Please use tf.nn.max_pool2d instead.\n",
      "\n"
     ]
    }
   ],
   "source": [
    "conv_base = ResNet50V2(weights = 'imagenet',\n",
    "                 include_top = False,\n",
    "                 input_shape = (480, 784, 3))"
   ]
  },
  {
   "cell_type": "code",
   "execution_count": 25,
   "metadata": {},
   "outputs": [],
   "source": [
    "#conv_base동결\n",
    "conv_base.trainable = False"
   ]
  },
  {
   "cell_type": "code",
   "execution_count": 26,
   "metadata": {},
   "outputs": [
    {
     "name": "stdout",
     "output_type": "stream",
     "text": [
      "Model: \"sequential_1\"\n",
      "_________________________________________________________________\n",
      "Layer (type)                 Output Shape              Param #   \n",
      "=================================================================\n",
      "resnet50v2 (Model)           (None, 15, 25, 2048)      23564800  \n",
      "_________________________________________________________________\n",
      "global_average_pooling2d_1 ( (None, 2048)              0         \n",
      "_________________________________________________________________\n",
      "dense_1 (Dense)              (None, 256)               524544    \n",
      "_________________________________________________________________\n",
      "dropout_1 (Dropout)          (None, 256)               0         \n",
      "_________________________________________________________________\n",
      "dense_2 (Dense)              (None, 3)                 771       \n",
      "=================================================================\n",
      "Total params: 24,090,115\n",
      "Trainable params: 525,315\n",
      "Non-trainable params: 23,564,800\n",
      "_________________________________________________________________\n"
     ]
    }
   ],
   "source": [
    "model = models.Sequential()\n",
    "model.add(conv_base)\n",
    "model.add(layers.GlobalAveragePooling2D())\n",
    "model.add(layers.Dense(256, activation='relu'))\n",
    "model.add(Dropout(0.5))\n",
    "model.add(layers.Dense(3, activation='softmax'))\n",
    "model.summary()"
   ]
  },
  {
   "cell_type": "code",
   "execution_count": 27,
   "metadata": {},
   "outputs": [],
   "source": [
    "model.compile(optimizer=optimizers.Adam(1e-4),\n",
    "              loss='categorical_crossentropy',\n",
    "              metrics=['acc'])"
   ]
  },
  {
   "cell_type": "code",
   "execution_count": 39,
   "metadata": {
    "collapsed": true,
    "jupyter": {
     "outputs_hidden": true
    }
   },
   "outputs": [
    {
     "name": "stderr",
     "output_type": "stream",
     "text": [
      "C:\\Users\\idong\\Anaconda3\\envs\\tens_gpu\\lib\\site-packages\\keras_preprocessing\\image\\image_data_generator.py:716: UserWarning: This ImageDataGenerator specifies `featurewise_center`, but it hasn't been fit on any training data. Fit it first by calling `.fit(numpy_data)`.\n",
      "  warnings.warn('This ImageDataGenerator specifies '\n",
      "C:\\Users\\idong\\Anaconda3\\envs\\tens_gpu\\lib\\site-packages\\keras_preprocessing\\image\\image_data_generator.py:735: UserWarning: This ImageDataGenerator specifies `zca_whitening`, but it hasn't been fit on any training data. Fit it first by calling `.fit(numpy_data)`.\n",
      "  warnings.warn('This ImageDataGenerator specifies '\n"
     ]
    },
    {
     "name": "stdout",
     "output_type": "stream",
     "text": [
      "Epoch 1/50\n",
      "45/45 [==============================] - 93s 2s/step - loss: 1.1230 - acc: 0.4204 - val_loss: 1.1191 - val_acc: 0.3885\n",
      "Epoch 2/50\n",
      "45/45 [==============================] - 77s 2s/step - loss: 1.0288 - acc: 0.4810 - val_loss: 1.0586 - val_acc: 0.4500\n",
      "Epoch 3/50\n",
      "45/45 [==============================] - 76s 2s/step - loss: 0.9884 - acc: 0.5140 - val_loss: 1.0511 - val_acc: 0.4308\n",
      "Epoch 4/50\n",
      "45/45 [==============================] - 76s 2s/step - loss: 0.9531 - acc: 0.5488 - val_loss: 1.0572 - val_acc: 0.4385\n",
      "Epoch 5/50\n",
      "45/45 [==============================] - 76s 2s/step - loss: 0.9210 - acc: 0.5617 - val_loss: 1.1140 - val_acc: 0.4115\n",
      "Epoch 6/50\n",
      "45/45 [==============================] - 77s 2s/step - loss: 0.8958 - acc: 0.5871 - val_loss: 1.1567 - val_acc: 0.4038\n",
      "Epoch 7/50\n",
      "45/45 [==============================] - 76s 2s/step - loss: 0.8722 - acc: 0.6048 - val_loss: 1.1146 - val_acc: 0.4115\n",
      "Epoch 8/50\n",
      "45/45 [==============================] - 77s 2s/step - loss: 0.8625 - acc: 0.6155 - val_loss: 1.0932 - val_acc: 0.4192\n",
      "Epoch 9/50\n",
      "45/45 [==============================] - 77s 2s/step - loss: 0.8409 - acc: 0.6424 - val_loss: 1.1636 - val_acc: 0.4077\n",
      "Epoch 10/50\n",
      "45/45 [==============================] - 78s 2s/step - loss: 0.8153 - acc: 0.6368 - val_loss: 1.1795 - val_acc: 0.4115\n",
      "Epoch 11/50\n",
      "45/45 [==============================] - 77s 2s/step - loss: 0.8060 - acc: 0.6546 - val_loss: 1.2259 - val_acc: 0.4000\n",
      "Epoch 12/50\n",
      "45/45 [==============================] - 76s 2s/step - loss: 0.7782 - acc: 0.6883 - val_loss: 1.1965 - val_acc: 0.4077\n",
      "Epoch 13/50\n",
      "45/45 [==============================] - 84s 2s/step - loss: 0.7541 - acc: 0.6867 - val_loss: 1.1931 - val_acc: 0.4231\n",
      "Epoch 14/50\n",
      "45/45 [==============================] - 95s 2s/step - loss: 0.7570 - acc: 0.6853 - val_loss: 1.1782 - val_acc: 0.4269\n",
      "Epoch 15/50\n",
      "45/45 [==============================] - 90s 2s/step - loss: 0.7313 - acc: 0.7007 - val_loss: 1.1861 - val_acc: 0.4231\n",
      "Epoch 16/50\n",
      "45/45 [==============================] - 90s 2s/step - loss: 0.7364 - acc: 0.7001 - val_loss: 1.1707 - val_acc: 0.4308\n",
      "Epoch 17/50\n",
      "45/45 [==============================] - 94s 2s/step - loss: 0.7319 - acc: 0.6886 - val_loss: 1.1748 - val_acc: 0.4308\n",
      "Epoch 18/50\n",
      "45/45 [==============================] - 97s 2s/step - loss: 0.7154 - acc: 0.7186 - val_loss: 1.1664 - val_acc: 0.4269\n",
      "Epoch 19/50\n",
      "45/45 [==============================] - 102s 2s/step - loss: 0.7132 - acc: 0.7102 - val_loss: 1.1753 - val_acc: 0.4269\n",
      "Epoch 20/50\n",
      "45/45 [==============================] - 110s 2s/step - loss: 0.7196 - acc: 0.7102 - val_loss: 1.1767 - val_acc: 0.4269\n",
      "Epoch 21/50\n",
      "45/45 [==============================] - 114s 3s/step - loss: 0.7154 - acc: 0.7204 - val_loss: 1.1481 - val_acc: 0.4385\n",
      "Epoch 22/50\n",
      "45/45 [==============================] - 114s 3s/step - loss: 0.7146 - acc: 0.7152 - val_loss: 1.1745 - val_acc: 0.4308\n",
      "Epoch 23/50\n",
      "45/45 [==============================] - 118s 3s/step - loss: 0.7161 - acc: 0.7220 - val_loss: 1.1656 - val_acc: 0.4269\n",
      "Epoch 24/50\n",
      "45/45 [==============================] - 123s 3s/step - loss: 0.7156 - acc: 0.7148 - val_loss: 1.1708 - val_acc: 0.4269\n",
      "Epoch 25/50\n",
      "45/45 [==============================] - 119s 3s/step - loss: 0.7201 - acc: 0.7179 - val_loss: 1.1727 - val_acc: 0.4269\n",
      "Epoch 26/50\n",
      "45/45 [==============================] - 127s 3s/step - loss: 0.7033 - acc: 0.7215 - val_loss: 1.1743 - val_acc: 0.4269\n",
      "Epoch 27/50\n",
      "45/45 [==============================] - 127s 3s/step - loss: 0.6961 - acc: 0.7304 - val_loss: 1.1751 - val_acc: 0.4308\n",
      "Epoch 28/50\n",
      "45/45 [==============================] - 122s 3s/step - loss: 0.7060 - acc: 0.7210 - val_loss: 1.1722 - val_acc: 0.4269\n",
      "Epoch 29/50\n",
      "45/45 [==============================] - 122s 3s/step - loss: 0.7075 - acc: 0.7237 - val_loss: 1.1735 - val_acc: 0.4269\n",
      "Epoch 30/50\n",
      "45/45 [==============================] - 126s 3s/step - loss: 0.7165 - acc: 0.7175 - val_loss: 1.1725 - val_acc: 0.4269\n",
      "Epoch 31/50\n",
      "45/45 [==============================] - 123s 3s/step - loss: 0.6971 - acc: 0.7231 - val_loss: 1.1721 - val_acc: 0.4269\n",
      "Epoch 32/50\n",
      "45/45 [==============================] - 76s 2s/step - loss: 0.7147 - acc: 0.7040 - val_loss: 1.1708 - val_acc: 0.4269\n",
      "Epoch 33/50\n",
      "45/45 [==============================] - 77s 2s/step - loss: 0.7136 - acc: 0.7154 - val_loss: 1.1718 - val_acc: 0.4269\n",
      "Epoch 34/50\n",
      "45/45 [==============================] - 77s 2s/step - loss: 0.7155 - acc: 0.7137 - val_loss: 1.1717 - val_acc: 0.4269\n",
      "Epoch 35/50\n",
      "45/45 [==============================] - 77s 2s/step - loss: 0.6983 - acc: 0.7293 - val_loss: 1.1720 - val_acc: 0.4269\n",
      "Epoch 36/50\n",
      "45/45 [==============================] - 77s 2s/step - loss: 0.7042 - acc: 0.7248 - val_loss: 1.1722 - val_acc: 0.4269\n",
      "Epoch 37/50\n",
      "45/45 [==============================] - 76s 2s/step - loss: 0.7177 - acc: 0.7141 - val_loss: 1.1724 - val_acc: 0.4269\n",
      "Epoch 38/50\n",
      "45/45 [==============================] - 76s 2s/step - loss: 0.6993 - acc: 0.7242 - val_loss: 1.1724 - val_acc: 0.4269\n",
      "Epoch 39/50\n",
      "45/45 [==============================] - 77s 2s/step - loss: 0.7108 - acc: 0.7277 - val_loss: 1.1724 - val_acc: 0.4269\n",
      "Epoch 40/50\n",
      "45/45 [==============================] - 76s 2s/step - loss: 0.7071 - acc: 0.7253 - val_loss: 1.1724 - val_acc: 0.4269\n",
      "Epoch 41/50\n",
      "45/45 [==============================] - 76s 2s/step - loss: 0.6991 - acc: 0.7180 - val_loss: 1.1723 - val_acc: 0.4269\n",
      "Epoch 42/50\n",
      "45/45 [==============================] - 76s 2s/step - loss: 0.7090 - acc: 0.7175 - val_loss: 1.1726 - val_acc: 0.4269\n",
      "Epoch 43/50\n",
      "45/45 [==============================] - 76s 2s/step - loss: 0.7147 - acc: 0.7147 - val_loss: 1.1724 - val_acc: 0.4269\n",
      "Epoch 44/50\n",
      "45/45 [==============================] - 76s 2s/step - loss: 0.7039 - acc: 0.7137 - val_loss: 1.1724 - val_acc: 0.4269\n",
      "Epoch 45/50\n",
      "45/45 [==============================] - 76s 2s/step - loss: 0.7087 - acc: 0.7237 - val_loss: 1.1724 - val_acc: 0.4269\n",
      "Epoch 46/50\n",
      "45/45 [==============================] - 76s 2s/step - loss: 0.7003 - acc: 0.7199 - val_loss: 1.1724 - val_acc: 0.4269\n"
     ]
    }
   ],
   "source": [
    "history2 = model.fit_generator(\n",
    "    datagen.flow(train_data, one_hot_train_labels, batch_size = 40),\n",
    "    steps_per_epoch=45,\n",
    "    epochs = 50,\n",
    "    callbacks= callbacks_list_clf,\n",
    "    validation_data=(val_data, one_hot_val_labels)\n",
    ")"
   ]
  },
  {
   "cell_type": "code",
   "execution_count": 40,
   "metadata": {},
   "outputs": [
    {
     "data": {
      "image/png": "[encoded data removed]",
      "text/plain": [
       "<Figure size 432x288 with 1 Axes>"
      ]
     },
     "metadata": {
      "needs_background": "light"
     },
     "output_type": "display_data"
    },
    {
     "data": {
      "image/png": "[encoded data removed]",
      "text/plain": [
       "<Figure size 432x288 with 1 Axes>"
      ]
     },
     "metadata": {
      "needs_background": "light"
     },
     "output_type": "display_data"
    }
   ],
   "source": [
    "acc = history2.history['acc']\n",
    "val_acc = history2.history['val_acc']\n",
    "loss = history2.history['loss']\n",
    "val_loss = history2.history['val_loss']\n",
    "\n",
    "epochs_h = range(1, len(acc) + 1)\n",
    "\n",
    "plt.plot(epochs_h, acc, 'bo', label='Training acc')\n",
    "plt.plot(epochs_h, val_acc, 'b', label = 'Validation acc')\n",
    "plt.title('Training and validation acc')\n",
    "plt.legend()\n",
    "\n",
    "plt.figure()\n",
    "\n",
    "plt.plot(epochs_h, loss, 'bo', label='Training loss')\n",
    "plt.plot(epochs_h, val_loss, 'b', label = 'Validation loss')\n",
    "plt.title('Training and validation loss')\n",
    "plt.legend()\n",
    "\n",
    "plt.show()"
   ]
  },
  {
   "cell_type": "code",
   "execution_count": 17,
   "metadata": {},
   "outputs": [
    {
     "name": "stdout",
     "output_type": "stream",
     "text": [
      "WARNING:tensorflow:From C:\\Users\\idong\\Anaconda3\\envs\\tens_gpu\\lib\\site-packages\\keras\\backend\\tensorflow_backend.py:4070: The name tf.nn.max_pool is deprecated. Please use tf.nn.max_pool2d instead.\n",
      "\n",
      "WARNING:tensorflow:From C:\\Users\\idong\\Anaconda3\\envs\\tens_gpu\\lib\\site-packages\\keras\\backend\\tensorflow_backend.py:422: The name tf.global_variables is deprecated. Please use tf.compat.v1.global_variables instead.\n",
      "\n"
     ]
    },
    {
     "name": "stderr",
     "output_type": "stream",
     "text": [
      "C:\\Users\\idong\\Anaconda3\\envs\\tens_gpu\\lib\\site-packages\\keras\\engine\\saving.py:384: UserWarning: Error in loading the saved optimizer state. As a result, your model is starting with a freshly initialized optimizer.\n",
      "  warnings.warn('Error in loading the saved optimizer '\n"
     ]
    }
   ],
   "source": [
    "model = models.load_model('real5_dental_ResNet50V2_clf.h5')\n",
    "model.load_weights('real5_dental_ResNet50V2_clf.h5')"
   ]
  },
  {
   "cell_type": "code",
   "execution_count": 18,
   "metadata": {},
   "outputs": [
    {
     "name": "stdout",
     "output_type": "stream",
     "text": [
      "<keras.layers.convolutional.Conv2D object at 0x00000276BE5B4E10>\n",
      "<keras.layers.merge.Add object at 0x00000276BE5B4F98>\n",
      "<keras.layers.normalization.BatchNormalization object at 0x00000276BE5A3FD0>\n",
      "<keras.layers.core.Activation object at 0x00000276BE5BB128>\n"
     ]
    }
   ],
   "source": [
    "model.layers[0].trainable = True\n",
    "\n",
    "set_trainable = False\n",
    "for layer in model.layers[0].layers:\n",
    "    if layer.name == model.layers[0].layers[186].name:\n",
    "        set_trainable = True\n",
    "    if set_trainable:\n",
    "        layer.trainable = True\n",
    "        print(layer)\n",
    "    else:\n",
    "        layer.trainable = False"
   ]
  },
  {
   "cell_type": "code",
   "execution_count": 19,
   "metadata": {},
   "outputs": [
    {
     "name": "stdout",
     "output_type": "stream",
     "text": [
      "resnet50v2\n",
      "global_average_pooling2d_1\n",
      "dense_1\n",
      "dropout_1\n",
      "dense_2\n",
      "\n",
      "conv5_block3_3_conv\n",
      "conv5_block3_out\n",
      "post_bn\n",
      "post_relu\n"
     ]
    }
   ],
   "source": [
    "for layer in model.layers:\n",
    "    if layer.trainable:\n",
    "        print(layer.name)\n",
    "\n",
    "print()\n",
    "        \n",
    "for layer in model.layers[0].layers:\n",
    "    if layer.trainable:\n",
    "        print(layer.name)"
   ]
  },
  {
   "cell_type": "code",
   "execution_count": 20,
   "metadata": {},
   "outputs": [],
   "source": [
    "callbacks_list_1 = [\n",
    "    keras.callbacks.EarlyStopping(\n",
    "        monitor='val_acc',\n",
    "        patience = 14,\n",
    "        mode = 'auto'\n",
    "    ),\n",
    "    keras.callbacks.ModelCheckpoint(\n",
    "        filepath='real5_dental_ResNet50V2_1.h5',\n",
    "        monitor='val_acc',\n",
    "        save_best_only=True,\n",
    "        period = 1\n",
    "    ),\n",
    "     keras.callbacks.ReduceLROnPlateau(\n",
    "    monitor = 'val_acc',\n",
    "    factor = 0.1,\n",
    "    patience = 10)\n",
    "]"
   ]
  },
  {
   "cell_type": "code",
   "execution_count": 21,
   "metadata": {},
   "outputs": [],
   "source": [
    "model.compile(optimizer=optimizers.Adam(1e-5),\n",
    "              loss='categorical_crossentropy',\n",
    "              metrics=['acc'])"
   ]
  },
  {
   "cell_type": "code",
   "execution_count": 23,
   "metadata": {
    "collapsed": true,
    "jupyter": {
     "outputs_hidden": true
    }
   },
   "outputs": [
    {
     "name": "stderr",
     "output_type": "stream",
     "text": [
      "C:\\Users\\idong\\Anaconda3\\envs\\tens_gpu\\lib\\site-packages\\keras_preprocessing\\image\\image_data_generator.py:716: UserWarning: This ImageDataGenerator specifies `featurewise_center`, but it hasn't been fit on any training data. Fit it first by calling `.fit(numpy_data)`.\n",
      "  warnings.warn('This ImageDataGenerator specifies '\n",
      "C:\\Users\\idong\\Anaconda3\\envs\\tens_gpu\\lib\\site-packages\\keras_preprocessing\\image\\image_data_generator.py:735: UserWarning: This ImageDataGenerator specifies `zca_whitening`, but it hasn't been fit on any training data. Fit it first by calling `.fit(numpy_data)`.\n",
      "  warnings.warn('This ImageDataGenerator specifies '\n"
     ]
    },
    {
     "name": "stdout",
     "output_type": "stream",
     "text": [
      "Epoch 1/100\n",
      "45/45 [==============================] - 119s 3s/step - loss: 0.7074 - acc: 0.7243 - val_loss: 1.0430 - val_acc: 0.4885\n",
      "Epoch 2/100\n",
      "45/45 [==============================] - 95s 2s/step - loss: 0.6975 - acc: 0.7359 - val_loss: 0.9871 - val_acc: 0.5269\n",
      "Epoch 3/100\n",
      "45/45 [==============================] - 102s 2s/step - loss: 0.6726 - acc: 0.7506 - val_loss: 0.9645 - val_acc: 0.5423\n",
      "Epoch 4/100\n",
      "45/45 [==============================] - 113s 3s/step - loss: 0.6740 - acc: 0.7494 - val_loss: 0.9417 - val_acc: 0.5462\n",
      "Epoch 5/100\n",
      "45/45 [==============================] - 114s 3s/step - loss: 0.6676 - acc: 0.7382 - val_loss: 0.9330 - val_acc: 0.5538\n",
      "Epoch 6/100\n",
      "45/45 [==============================] - 119s 3s/step - loss: 0.6544 - acc: 0.7534 - val_loss: 0.9214 - val_acc: 0.5269\n",
      "Epoch 7/100\n",
      "45/45 [==============================] - 122s 3s/step - loss: 0.6438 - acc: 0.7634 - val_loss: 0.9265 - val_acc: 0.5654\n",
      "Epoch 8/100\n",
      "45/45 [==============================] - 126s 3s/step - loss: 0.6387 - acc: 0.7601 - val_loss: 0.9195 - val_acc: 0.5654\n",
      "Epoch 9/100\n",
      "45/45 [==============================] - 122s 3s/step - loss: 0.6085 - acc: 0.7846 - val_loss: 0.9182 - val_acc: 0.5615\n",
      "Epoch 10/100\n",
      "45/45 [==============================] - 127s 3s/step - loss: 0.6178 - acc: 0.7730 - val_loss: 0.9167 - val_acc: 0.5692\n",
      "Epoch 11/100\n",
      "45/45 [==============================] - 131s 3s/step - loss: 0.5990 - acc: 0.7881 - val_loss: 0.9201 - val_acc: 0.5654\n",
      "Epoch 12/100\n",
      "45/45 [==============================] - 135s 3s/step - loss: 0.5941 - acc: 0.7932 - val_loss: 0.9214 - val_acc: 0.5808\n",
      "Epoch 13/100\n",
      "45/45 [==============================] - 133s 3s/step - loss: 0.5863 - acc: 0.8103 - val_loss: 0.9271 - val_acc: 0.5654\n",
      "Epoch 14/100\n",
      "45/45 [==============================] - 133s 3s/step - loss: 0.5787 - acc: 0.8035 - val_loss: 0.9129 - val_acc: 0.5654\n",
      "Epoch 15/100\n",
      "45/45 [==============================] - 88s 2s/step - loss: 0.5754 - acc: 0.8041 - val_loss: 0.9195 - val_acc: 0.5692\n",
      "Epoch 16/100\n",
      "45/45 [==============================] - 79s 2s/step - loss: 0.5624 - acc: 0.8150 - val_loss: 0.9247 - val_acc: 0.5731\n",
      "Epoch 17/100\n",
      "45/45 [==============================] - 82s 2s/step - loss: 0.5512 - acc: 0.8131 - val_loss: 0.9123 - val_acc: 0.5731\n",
      "Epoch 18/100\n",
      "45/45 [==============================] - 82s 2s/step - loss: 0.5453 - acc: 0.8358 - val_loss: 0.9190 - val_acc: 0.5769\n",
      "Epoch 19/100\n",
      "45/45 [==============================] - 83s 2s/step - loss: 0.5307 - acc: 0.8341 - val_loss: 0.9162 - val_acc: 0.5808\n",
      "Epoch 20/100\n",
      "45/45 [==============================] - 81s 2s/step - loss: 0.5146 - acc: 0.8419 - val_loss: 0.9146 - val_acc: 0.5769\n",
      "Epoch 21/100\n",
      "45/45 [==============================] - 80s 2s/step - loss: 0.5213 - acc: 0.8251 - val_loss: 0.8976 - val_acc: 0.5577\n",
      "Epoch 22/100\n",
      "45/45 [==============================] - 81s 2s/step - loss: 0.5076 - acc: 0.8532 - val_loss: 0.9152 - val_acc: 0.5769\n",
      "Epoch 23/100\n",
      "45/45 [==============================] - 82s 2s/step - loss: 0.4917 - acc: 0.8521 - val_loss: 0.9167 - val_acc: 0.5769\n",
      "Epoch 24/100\n",
      "45/45 [==============================] - 82s 2s/step - loss: 0.5019 - acc: 0.8526 - val_loss: 0.9164 - val_acc: 0.5769\n",
      "Epoch 25/100\n",
      "45/45 [==============================] - 82s 2s/step - loss: 0.4982 - acc: 0.8491 - val_loss: 0.9145 - val_acc: 0.5769\n",
      "Epoch 26/100\n",
      "45/45 [==============================] - 86s 2s/step - loss: 0.4974 - acc: 0.8549 - val_loss: 0.9152 - val_acc: 0.5769\n"
     ]
    }
   ],
   "source": [
    "history = model.fit_generator(\n",
    "    datagen.flow(train_data, one_hot_train_labels, batch_size = 40),\n",
    "    steps_per_epoch=45,\n",
    "    epochs = 100,\n",
    "    callbacks= callbacks_list_1,\n",
    "    validation_data=(val_data, one_hot_val_labels)\n",
    ")"
   ]
  },
  {
   "cell_type": "code",
   "execution_count": 25,
   "metadata": {},
   "outputs": [
    {
     "data": {
      "image/png": "[encoded data removed]",
      "text/plain": [
       "<Figure size 432x288 with 1 Axes>"
      ]
     },
     "metadata": {
      "needs_background": "light"
     },
     "output_type": "display_data"
    },
    {
     "data": {
      "image/png": "[encoded data removed]",
      "text/plain": [
       "<Figure size 432x288 with 1 Axes>"
      ]
     },
     "metadata": {
      "needs_background": "light"
     },
     "output_type": "display_data"
    }
   ],
   "source": [
    "acc = history.history['acc']\n",
    "val_acc = history.history['val_acc']\n",
    "loss = history.history['loss']\n",
    "val_loss = history.history['val_loss']\n",
    "\n",
    "epochs_h = range(1, len(acc) + 1)\n",
    "\n",
    "plt.plot(epochs_h, acc, 'bo', label='Training acc')\n",
    "plt.plot(epochs_h, val_acc, 'b', label = 'Validation acc')\n",
    "plt.title('Training and validation acc')\n",
    "plt.legend()\n",
    "\n",
    "plt.figure()\n",
    "\n",
    "plt.plot(epochs_h, loss, 'bo', label='Training loss')\n",
    "plt.plot(epochs_h, val_loss, 'b', label = 'Validation loss')\n",
    "plt.title('Training and validation loss')\n",
    "plt.legend()\n",
    "\n",
    "plt.show()"
   ]
  },
  {
   "cell_type": "code",
   "execution_count": 16,
   "metadata": {},
   "outputs": [
    {
     "name": "stdout",
     "output_type": "stream",
     "text": [
      "WARNING:tensorflow:From C:\\Users\\idong\\Anaconda3\\envs\\tens_gpu\\lib\\site-packages\\keras\\backend\\tensorflow_backend.py:4070: The name tf.nn.max_pool is deprecated. Please use tf.nn.max_pool2d instead.\n",
      "\n",
      "WARNING:tensorflow:From C:\\Users\\idong\\Anaconda3\\envs\\tens_gpu\\lib\\site-packages\\keras\\backend\\tensorflow_backend.py:422: The name tf.global_variables is deprecated. Please use tf.compat.v1.global_variables instead.\n",
      "\n"
     ]
    }
   ],
   "source": [
    "model = models.load_model('real5_dental_ResNet50V2_1.h5')\n",
    "model.load_weights('real5_dental_ResNet50V2_1.h5')"
   ]
  },
  {
   "cell_type": "code",
   "execution_count": 17,
   "metadata": {},
   "outputs": [
    {
     "name": "stdout",
     "output_type": "stream",
     "text": [
      "<keras.layers.convolutional.Conv2D object at 0x000001AC443793C8>\n",
      "<keras.layers.normalization.BatchNormalization object at 0x000001AC44379518>\n",
      "<keras.layers.core.Activation object at 0x000001AC44379630>\n",
      "<keras.layers.convolutional.Conv2D object at 0x000001AC44379668>\n",
      "<keras.layers.merge.Add object at 0x000001AC443797F0>\n",
      "<keras.layers.normalization.BatchNormalization object at 0x000001AC44379828>\n",
      "<keras.layers.core.Activation object at 0x000001AC44379940>\n"
     ]
    }
   ],
   "source": [
    "model.layers[0].trainable = True\n",
    "\n",
    "set_trainable = False\n",
    "for layer in model.layers[0].layers:\n",
    "    if layer.name == 'conv5_block3_2_conv':\n",
    "        set_trainable = True\n",
    "    if set_trainable:\n",
    "        layer.trainable = True\n",
    "        print(layer)\n",
    "    else:\n",
    "        layer.trainable = False"
   ]
  },
  {
   "cell_type": "code",
   "execution_count": 18,
   "metadata": {},
   "outputs": [
    {
     "name": "stdout",
     "output_type": "stream",
     "text": [
      "resnet50v2\n",
      "global_average_pooling2d_1\n",
      "dense_1\n",
      "dropout_1\n",
      "dense_2\n",
      "\n",
      "conv5_block3_2_conv\n",
      "conv5_block3_2_bn\n",
      "conv5_block3_2_relu\n",
      "conv5_block3_3_conv\n",
      "conv5_block3_out\n",
      "post_bn\n",
      "post_relu\n"
     ]
    }
   ],
   "source": [
    "for layer in model.layers:\n",
    "    if layer.trainable:\n",
    "        print(layer.name)\n",
    "\n",
    "print()\n",
    "        \n",
    "for layer in model.layers[0].layers:\n",
    "    if layer.trainable:\n",
    "        print(layer.name)"
   ]
  },
  {
   "cell_type": "code",
   "execution_count": 19,
   "metadata": {},
   "outputs": [],
   "source": [
    "callbacks_list_2 = [\n",
    "    keras.callbacks.EarlyStopping(\n",
    "        monitor='val_acc',\n",
    "        patience = 14,\n",
    "        mode = 'auto'\n",
    "    ),\n",
    "    keras.callbacks.ModelCheckpoint(\n",
    "        filepath='real5_dental_ResNet50V2_2.h5',\n",
    "        monitor='val_acc',\n",
    "        save_best_only=True,\n",
    "        period = 1\n",
    "    ),\n",
    "     keras.callbacks.ReduceLROnPlateau(\n",
    "    monitor = 'val_acc',\n",
    "    factor = 0.1,\n",
    "    patience = 5\n",
    "     )\n",
    "] "
   ]
  },
  {
   "cell_type": "code",
   "execution_count": null,
   "metadata": {},
   "outputs": [],
   "source": [
    "model.compile(optimizer=optimizers.Adam(1e-6),\n",
    "              loss='categorical_crossentropy',\n",
    "              metrics=['acc'])"
   ]
  },
  {
   "cell_type": "code",
   "execution_count": 22,
   "metadata": {
    "collapsed": true,
    "jupyter": {
     "outputs_hidden": true
    }
   },
   "outputs": [
    {
     "name": "stderr",
     "output_type": "stream",
     "text": [
      "C:\\Users\\idong\\Anaconda3\\envs\\tens_gpu\\lib\\site-packages\\keras_preprocessing\\image\\image_data_generator.py:716: UserWarning: This ImageDataGenerator specifies `featurewise_center`, but it hasn't been fit on any training data. Fit it first by calling `.fit(numpy_data)`.\n",
      "  warnings.warn('This ImageDataGenerator specifies '\n",
      "C:\\Users\\idong\\Anaconda3\\envs\\tens_gpu\\lib\\site-packages\\keras_preprocessing\\image\\image_data_generator.py:735: UserWarning: This ImageDataGenerator specifies `zca_whitening`, but it hasn't been fit on any training data. Fit it first by calling `.fit(numpy_data)`.\n",
      "  warnings.warn('This ImageDataGenerator specifies '\n"
     ]
    },
    {
     "name": "stdout",
     "output_type": "stream",
     "text": [
      "Epoch 1/100\n",
      "60/60 [==============================] - 96s 2s/step - loss: 0.5979 - acc: 0.7918 - val_loss: 0.9201 - val_acc: 0.5769\n",
      "Epoch 2/100\n",
      "60/60 [==============================] - 79s 1s/step - loss: 0.6001 - acc: 0.7806 - val_loss: 0.9191 - val_acc: 0.5692\n",
      "Epoch 3/100\n",
      "60/60 [==============================] - 79s 1s/step - loss: 0.5881 - acc: 0.8033 - val_loss: 0.9183 - val_acc: 0.5692\n",
      "Epoch 4/100\n",
      "60/60 [==============================] - 79s 1s/step - loss: 0.5831 - acc: 0.7942 - val_loss: 0.9173 - val_acc: 0.5692\n",
      "Epoch 5/100\n",
      "60/60 [==============================] - 80s 1s/step - loss: 0.5826 - acc: 0.8086 - val_loss: 0.9186 - val_acc: 0.5692\n",
      "Epoch 6/100\n",
      "60/60 [==============================] - 79s 1s/step - loss: 0.5703 - acc: 0.8173 - val_loss: 0.9162 - val_acc: 0.5692\n",
      "Epoch 7/100\n",
      "60/60 [==============================] - 82s 1s/step - loss: 0.5776 - acc: 0.7941 - val_loss: 0.9162 - val_acc: 0.5692\n",
      "Epoch 8/100\n",
      "60/60 [==============================] - 80s 1s/step - loss: 0.5761 - acc: 0.8053 - val_loss: 0.9160 - val_acc: 0.5692\n",
      "Epoch 9/100\n",
      "60/60 [==============================] - 79s 1s/step - loss: 0.5638 - acc: 0.8081 - val_loss: 0.9162 - val_acc: 0.5692\n",
      "Epoch 10/100\n",
      "60/60 [==============================] - 80s 1s/step - loss: 0.5748 - acc: 0.8036 - val_loss: 0.9161 - val_acc: 0.5692\n",
      "Epoch 11/100\n",
      "60/60 [==============================] - 79s 1s/step - loss: 0.5733 - acc: 0.8061 - val_loss: 0.9159 - val_acc: 0.5692\n",
      "Epoch 12/100\n",
      "60/60 [==============================] - 80s 1s/step - loss: 0.5603 - acc: 0.8187 - val_loss: 0.9159 - val_acc: 0.5692\n",
      "Epoch 13/100\n",
      "60/60 [==============================] - 79s 1s/step - loss: 0.5726 - acc: 0.8044 - val_loss: 0.9159 - val_acc: 0.5692\n",
      "Epoch 14/100\n",
      "60/60 [==============================] - 81s 1s/step - loss: 0.5729 - acc: 0.8112 - val_loss: 0.9159 - val_acc: 0.5692\n",
      "Epoch 15/100\n",
      "60/60 [==============================] - 82s 1s/step - loss: 0.5699 - acc: 0.8175 - val_loss: 0.9159 - val_acc: 0.5692\n"
     ]
    }
   ],
   "source": [
    "history = model.fit_generator(\n",
    "    datagen.flow(train_data, one_hot_train_labels, batch_size = 30),\n",
    "    steps_per_epoch=60,\n",
    "    epochs = 100,\n",
    "    callbacks= callbacks_list_2,\n",
    "    validation_data=(val_data, one_hot_val_labels)\n",
    ")"
   ]
  },
  {
   "cell_type": "code",
   "execution_count": 17,
   "metadata": {},
   "outputs": [
    {
     "name": "stdout",
     "output_type": "stream",
     "text": [
      "WARNING:tensorflow:From C:\\Users\\idong\\Anaconda3\\envs\\tens_gpu\\lib\\site-packages\\keras\\backend\\tensorflow_backend.py:4070: The name tf.nn.max_pool is deprecated. Please use tf.nn.max_pool2d instead.\n",
      "\n",
      "WARNING:tensorflow:From C:\\Users\\idong\\Anaconda3\\envs\\tens_gpu\\lib\\site-packages\\keras\\backend\\tensorflow_backend.py:422: The name tf.global_variables is deprecated. Please use tf.compat.v1.global_variables instead.\n",
      "\n"
     ]
    }
   ],
   "source": [
    "model = models.load_model('real5_dental_ResNet50V2_2.h5')\n",
    "model.load_weights('real5_dental_ResNet50V2_2.h5')"
   ]
  },
  {
   "cell_type": "code",
   "execution_count": 18,
   "metadata": {},
   "outputs": [
    {
     "name": "stdout",
     "output_type": "stream",
     "text": [
      "<keras.layers.convolutional.Conv2D object at 0x000002657109CC50>\n",
      "<keras.layers.normalization.BatchNormalization object at 0x000002657109CDD8>\n",
      "<keras.layers.core.Activation object at 0x000002657109CEF0>\n",
      "<keras.layers.convolutional.ZeroPadding2D object at 0x000002657109CF28>\n",
      "<keras.layers.convolutional.Conv2D object at 0x000002657109CF98>\n",
      "<keras.layers.normalization.BatchNormalization object at 0x00000265710A4128>\n",
      "<keras.layers.core.Activation object at 0x00000265710A4240>\n",
      "<keras.layers.convolutional.Conv2D object at 0x00000265710A4278>\n",
      "<keras.layers.merge.Add object at 0x00000265710A4400>\n",
      "<keras.layers.normalization.BatchNormalization object at 0x00000265710A4438>\n",
      "<keras.layers.core.Activation object at 0x00000265710A4550>\n"
     ]
    }
   ],
   "source": [
    "model.layers[0].trainable = True\n",
    "\n",
    "set_trainable = False\n",
    "for layer in model.layers[0].layers:\n",
    "    if layer.name == 'conv5_block3_1_conv':\n",
    "        set_trainable = True\n",
    "    if set_trainable:\n",
    "        layer.trainable = True\n",
    "        print(layer)\n",
    "    else:\n",
    "        layer.trainable = False"
   ]
  },
  {
   "cell_type": "code",
   "execution_count": 19,
   "metadata": {},
   "outputs": [
    {
     "name": "stdout",
     "output_type": "stream",
     "text": [
      "resnet50v2\n",
      "global_average_pooling2d_1\n",
      "dense_1\n",
      "dropout_1\n",
      "dense_2\n",
      "\n",
      "conv5_block3_1_conv\n",
      "conv5_block3_1_bn\n",
      "conv5_block3_1_relu\n",
      "conv5_block3_2_pad\n",
      "conv5_block3_2_conv\n",
      "conv5_block3_2_bn\n",
      "conv5_block3_2_relu\n",
      "conv5_block3_3_conv\n",
      "conv5_block3_out\n",
      "post_bn\n",
      "post_relu\n"
     ]
    }
   ],
   "source": [
    "for layer in model.layers:\n",
    "    if layer.trainable:\n",
    "        print(layer.name)\n",
    "\n",
    "print()\n",
    "        \n",
    "for layer in model.layers[0].layers:\n",
    "    if layer.trainable:\n",
    "        print(layer.name)"
   ]
  },
  {
   "cell_type": "code",
   "execution_count": 20,
   "metadata": {},
   "outputs": [],
   "source": [
    "callbacks_list_3 = [\n",
    "    keras.callbacks.EarlyStopping(\n",
    "        monitor='val_acc',\n",
    "        patience = 14,\n",
    "        mode = 'auto'\n",
    "    ),\n",
    "    keras.callbacks.ModelCheckpoint(\n",
    "        filepath='real5_dental_ResNet50V2_3.h5',\n",
    "        monitor='val_acc',\n",
    "        save_best_only=True,\n",
    "        period = 1\n",
    "    ),\n",
    "     keras.callbacks.ReduceLROnPlateau(\n",
    "    monitor = 'val_acc',\n",
    "    factor = 0.1,\n",
    "    patience = 5\n",
    "     )\n",
    "] "
   ]
  },
  {
   "cell_type": "code",
   "execution_count": 21,
   "metadata": {},
   "outputs": [],
   "source": [
    "model.compile(optimizer=optimizers.Adam(1e-7),\n",
    "              loss='categorical_crossentropy',\n",
    "              metrics=['acc'])"
   ]
  },
  {
   "cell_type": "code",
   "execution_count": 22,
   "metadata": {},
   "outputs": [
    {
     "name": "stderr",
     "output_type": "stream",
     "text": [
      "C:\\Users\\idong\\Anaconda3\\envs\\tens_gpu\\lib\\site-packages\\keras_preprocessing\\image\\image_data_generator.py:716: UserWarning: This ImageDataGenerator specifies `featurewise_center`, but it hasn't been fit on any training data. Fit it first by calling `.fit(numpy_data)`.\n",
      "  warnings.warn('This ImageDataGenerator specifies '\n",
      "C:\\Users\\idong\\Anaconda3\\envs\\tens_gpu\\lib\\site-packages\\keras_preprocessing\\image\\image_data_generator.py:735: UserWarning: This ImageDataGenerator specifies `zca_whitening`, but it hasn't been fit on any training data. Fit it first by calling `.fit(numpy_data)`.\n",
      "  warnings.warn('This ImageDataGenerator specifies '\n"
     ]
    },
    {
     "name": "stdout",
     "output_type": "stream",
     "text": [
      "Epoch 1/100\n",
      "60/60 [==============================] - 94s 2s/step - loss: 0.5950 - acc: 0.7789 - val_loss: 0.9207 - val_acc: 0.5769\n",
      "Epoch 2/100\n",
      "60/60 [==============================] - 81s 1s/step - loss: 0.5951 - acc: 0.7952 - val_loss: 0.9211 - val_acc: 0.5769\n",
      "Epoch 3/100\n",
      "60/60 [==============================] - 83s 1s/step - loss: 0.5898 - acc: 0.7885 - val_loss: 0.9212 - val_acc: 0.5769\n",
      "Epoch 4/100\n",
      "60/60 [==============================] - 80s 1s/step - loss: 0.6094 - acc: 0.7925 - val_loss: 0.9208 - val_acc: 0.5769\n",
      "Epoch 5/100\n",
      "60/60 [==============================] - 82s 1s/step - loss: 0.5963 - acc: 0.8008 - val_loss: 0.9210 - val_acc: 0.5731\n",
      "Epoch 6/100\n",
      "60/60 [==============================] - 82s 1s/step - loss: 0.5887 - acc: 0.7965 - val_loss: 0.9207 - val_acc: 0.5731\n",
      "Epoch 7/100\n",
      "60/60 [==============================] - 83s 1s/step - loss: 0.5827 - acc: 0.8010 - val_loss: 0.9209 - val_acc: 0.5731\n",
      "Epoch 8/100\n",
      "60/60 [==============================] - 83s 1s/step - loss: 0.6003 - acc: 0.7829 - val_loss: 0.9210 - val_acc: 0.5731\n",
      "Epoch 9/100\n",
      "60/60 [==============================] - 81s 1s/step - loss: 0.5771 - acc: 0.7988 - val_loss: 0.9213 - val_acc: 0.5769\n",
      "Epoch 10/100\n",
      "60/60 [==============================] - 81s 1s/step - loss: 0.5830 - acc: 0.7969 - val_loss: 0.9206 - val_acc: 0.5769\n",
      "Epoch 11/100\n",
      "60/60 [==============================] - 82s 1s/step - loss: 0.5918 - acc: 0.7942 - val_loss: 0.9211 - val_acc: 0.5731\n",
      "Epoch 12/100\n",
      "60/60 [==============================] - 82s 1s/step - loss: 0.5871 - acc: 0.8044 - val_loss: 0.9213 - val_acc: 0.5769\n",
      "Epoch 13/100\n",
      "60/60 [==============================] - 82s 1s/step - loss: 0.5878 - acc: 0.7935 - val_loss: 0.9214 - val_acc: 0.5769\n",
      "Epoch 14/100\n",
      "60/60 [==============================] - 80s 1s/step - loss: 0.5948 - acc: 0.7959 - val_loss: 0.9213 - val_acc: 0.5769\n",
      "Epoch 15/100\n",
      "60/60 [==============================] - 81s 1s/step - loss: 0.5937 - acc: 0.8016 - val_loss: 0.9211 - val_acc: 0.5769\n"
     ]
    }
   ],
   "source": [
    "history = model.fit_generator(\n",
    "    datagen.flow(train_data, one_hot_train_labels, batch_size = 30),\n",
    "    steps_per_epoch=60,\n",
    "    epochs = 100,\n",
    "    callbacks= callbacks_list_3,\n",
    "    validation_data=(val_data, one_hot_val_labels)\n",
    ")"
   ]
  },
  {
   "cell_type": "code",
   "execution_count": 23,
   "metadata": {},
   "outputs": [
    {
     "data": {
      "image/png": "[encoded data removed]",
      "text/plain": [
       "<Figure size 432x288 with 1 Axes>"
      ]
     },
     "metadata": {
      "needs_background": "light"
     },
     "output_type": "display_data"
    },
    {
     "data": {
      "image/png": "[encoded data removed]",
      "text/plain": [
       "<Figure size 432x288 with 1 Axes>"
      ]
     },
     "metadata": {
      "needs_background": "light"
     },
     "output_type": "display_data"
    }
   ],
   "source": [
    "acc = history.history['acc']\n",
    "val_acc = history.history['val_acc']\n",
    "loss = history.history['loss']\n",
    "val_loss = history.history['val_loss']\n",
    "\n",
    "epochs_h = range(1, len(acc) + 1)\n",
    "\n",
    "plt.plot(epochs_h, acc, 'bo', label='Training acc')\n",
    "plt.plot(epochs_h, val_acc, 'b', label = 'Validation acc')\n",
    "plt.title('Training and validation acc')\n",
    "plt.legend()\n",
    "\n",
    "plt.figure()\n",
    "\n",
    "plt.plot(epochs_h, loss, 'bo', label='Training loss')\n",
    "plt.plot(epochs_h, val_loss, 'b', label = 'Validation loss')\n",
    "plt.title('Training and validation loss')\n",
    "plt.legend()\n",
    "\n",
    "plt.show()"
   ]
  }
 ],
 "metadata": {
  "kernelspec": {
   "display_name": "Python 3",
   "language": "python",
   "name": "python3"
  },
  "language_info": {
   "codemirror_mode": {
    "name": "ipython",
    "version": 3
   },
   "file_extension": ".py",
   "mimetype": "text/x-python",
   "name": "python",
   "nbconvert_exporter": "python",
   "pygments_lexer": "ipython3",
   "version": "3.7.1"
  }
 },
 "nbformat": 4,
 "nbformat_minor": 4
}
