{
 "cells": [
  {
   "cell_type": "code",
   "execution_count": 71,
   "metadata": {},
   "outputs": [],
   "source": [
    "from matplotlib import pyplot as plt\n",
    "import numpy as np\n",
    "import argparse\n",
    "import cv2\n",
    "import glob\n",
    "from copy import deepcopy\n",
    "import random"
   ]
  },
  {
   "cell_type": "code",
   "execution_count": 72,
   "metadata": {},
   "outputs": [],
   "source": [
    "#DATA_PATH 따로 지정해야 함\n",
    "DATA_PATH = r'C:\\DATA_Python\\endoscope\\DAVIS\\JPEG_480p\\bear'\n",
    "N_data = glob.glob(DATA_PATH + '/*.jpg')\n",
    "\n",
    "#SAVE_PATH 따로 지정\n",
    "SAVE_PATH = r'C:\\DATA_Python\\endoscope\\changed_datas\\bear\\\\'"
   ]
  },
  {
   "cell_type": "code",
   "execution_count": 73,
   "metadata": {},
   "outputs": [],
   "source": [
    "#data preprocessing\n",
    "def changing_datas(N_data, SAVE_PATH):\n",
    "    for i in range(len(N_data)):\n",
    "        test_img = cv2.imread(N_data[i], cv2.IMREAD_COLOR)\n",
    "        \n",
    "        #랜덤\n",
    "        k_10s = random.randrange(0, 4)\n",
    "        k_1s = random.randrange(0, 10)\n",
    "    \n",
    "        l_10s = random.randrange(0, 4)\n",
    "        l_1s = random.randrange(0, 10)\n",
    "\n",
    "        a = 0.5 + k_10s * 0.01 + k_1s * 0.001\n",
    "        b = 0.5 + l_10s * 0.01 + l_1s * 0.001\n",
    "        \n",
    "        \n",
    "        #preprocessing\n",
    "        test_bear = deepcopy(test_img)\n",
    "        test_bear[:,:,2] = test_bear[...,2]*1\n",
    "        test_bear[...,1] = test_bear[...,1]*a\n",
    "        test_bear[...,0] = test_bear[...,0]*b\n",
    "        \n",
    "        #SAVE\n",
    "        cv2.imwrite(SAVE_PATH + '{}'.format(i) + '.jpg', test_bear)"
   ]
  },
  {
   "cell_type": "code",
   "execution_count": 70,
   "metadata": {},
   "outputs": [],
   "source": [
    "changing_datas(N_data, SAVE_PATH)"
   ]
  }
 ],
 "metadata": {
  "kernelspec": {
   "display_name": "Python 3",
   "language": "python",
   "name": "python3"
  },
  "language_info": {
   "codemirror_mode": {
    "name": "ipython",
    "version": 3
   },
   "file_extension": ".py",
   "mimetype": "text/x-python",
   "name": "python",
   "nbconvert_exporter": "python",
   "pygments_lexer": "ipython3",
   "version": "3.7.6"
  }
 },
 "nbformat": 4,
 "nbformat_minor": 4
}
