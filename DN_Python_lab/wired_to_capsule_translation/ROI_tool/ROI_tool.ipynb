{
 "cells": [
  {
   "cell_type": "code",
   "execution_count": 1,
   "metadata": {},
   "outputs": [],
   "source": [
    "import numpy as np\n",
    "import cv2\n",
    "import argparse\n",
    "import glob\n",
    "import os"
   ]
  },
  {
   "cell_type": "code",
   "execution_count": 2,
   "metadata": {},
   "outputs": [],
   "source": [
    "SAVE_PATH = r'D:\\dataset\\DATA_Python\\endoscope\\ROI_data\\\\'\n",
    "images_PATH = r'D:\\dataset\\DATA_Python\\endoscope\\cap_endoscope_frame_selected'\n",
    "\n",
    "images = glob.glob(images_PATH + '/*.jpg')\n",
    "\n",
    "green_color = (0, 255, 0)\n",
    "white_color = (225, 225, 225)\n",
    "refpt = []\n",
    "cropping = False"
   ]
  },
  {
   "cell_type": "code",
   "execution_count": 3,
   "metadata": {},
   "outputs": [],
   "source": [
    "#클릭한 좌표 저장 및 클릭한 위치 표시\n",
    "def click_and_crop(event, x, y, flags, param):\n",
    "    global refpt, cropping\n",
    "    refpt_tmp = []\n",
    "    \n",
    "    if event == cv2.EVENT_LBUTTONDOWN:\n",
    "        cropping = True\n",
    "\n",
    "    elif event == cv2.EVENT_LBUTTONUP:\n",
    "        refpt_tmp.append(x)\n",
    "        refpt_tmp.append(y)\n",
    "        \n",
    "        refpt.append(refpt_tmp)\n",
    "        cropping = False\n",
    "        \n",
    "        print(refpt)\n",
    "        print(refpt_tmp)\n",
    "\n",
    "        cv2.rectangle(image, (x, y), (x+1, y+1),\n",
    "                     (255, 0, 0), 2)\n",
    "        cv2.imshow(\"image\", image)"
   ]
  },
  {
   "cell_type": "code",
   "execution_count": 4,
   "metadata": {},
   "outputs": [],
   "source": [
    "#ROI poly 이미지를 보여줌\n",
    "def Roi_poly(coordinates):\n",
    "    pt1 = np.array(coordinates, np.int32)\n",
    "    img = cv2.polylines(image, [pt1], True, green_color, 2)\n",
    "    \n",
    "    cv2.imshow(\"polylines\", img)\n",
    "    cv2.waitKey(0)\n",
    "    cv2.destroyAllWindows()"
   ]
  },
  {
   "cell_type": "code",
   "execution_count": 5,
   "metadata": {},
   "outputs": [],
   "source": [
    "def ROI_SAVE(coordinates, SAVE_PATH, image, basename):\n",
    "\n",
    "    #좌표를 받아서 배열\n",
    "    pt2 = np.array(coordinates, np.int32)\n",
    "    \n",
    "    #img의 shape를 확인하여 마스크img 생성 준비\n",
    "    height, width, channel = image.shape\n",
    "    back_img = np.zeros((height, width), np.uint8)\n",
    "    \n",
    "    #ROI 색칠 추출\n",
    "    back_img = cv2.fillConvexPoly(back_img, pt2, white_color)\n",
    "\n",
    "\n",
    "    #ROI save\n",
    "    cv2.imwrite(SAVE_PATH + '{}'.format(basename[:-4]) +'_mask' + '.jpg', back_img) "
   ]
  },
  {
   "cell_type": "code",
   "execution_count": 7,
   "metadata": {},
   "outputs": [],
   "source": [
    "#roi를 추출할 사진\n",
    "for i in range(len(images)):\n",
    "    image = cv2.imread(images[i])\n",
    "    basename = os.path.basename(images[i])\n",
    "    clone = image.copy()\n",
    "    cv2.namedWindow('image')\n",
    "\n",
    "\n",
    "    #ROI 추출 \n",
    "    while True:\n",
    "        cv2.imshow(\"image\", image)\n",
    "        key = cv2.waitKey(1) & 0xFF\n",
    "        cv2.setMouseCallback('image', click_and_crop)\n",
    "    \n",
    "        #키보드 r을 누르면 기존에 클릭한 점을 초기화시킨다\n",
    "        if key == ord(\"r\"):\n",
    "            image = clone.copy()\n",
    "            global refpt\n",
    "            refpt = []\n",
    "    \n",
    "        #키보드 c를 누르면 ROI를 구해줌\n",
    "        if key == ord(\"c\"):\n",
    "            Roi_poly(refpt)\n",
    "        \n",
    "        if key == ord(\"s\"):\n",
    "            ROI_SAVE(refpt, SAVE_PATH, image, basename)\n",
    "        \n",
    "        #키보드 q를 누르면 다음 img or 나감   \n",
    "        elif key == ord(\"q\"):\n",
    "            refpt = []\n",
    "            \n",
    "            break\n",
    "\n",
    "    cv2.destroyAllWindows()"
   ]
  }
 ],
 "metadata": {
  "kernelspec": {
   "display_name": "Python 3",
   "language": "python",
   "name": "python3"
  },
  "language_info": {
   "codemirror_mode": {
    "name": "ipython",
    "version": 3
   },
   "file_extension": ".py",
   "mimetype": "text/x-python",
   "name": "python",
   "nbconvert_exporter": "python",
   "pygments_lexer": "ipython3",
   "version": "3.7.6"
  }
 },
 "nbformat": 4,
 "nbformat_minor": 4
}
