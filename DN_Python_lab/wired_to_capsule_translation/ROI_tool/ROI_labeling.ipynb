{
 "cells": [
  {
   "cell_type": "code",
   "execution_count": 28,
   "metadata": {},
   "outputs": [],
   "source": [
    "import numpy as np\n",
    "import cv2\n",
    "import argparse"
   ]
  },
  {
   "cell_type": "code",
   "execution_count": 29,
   "metadata": {},
   "outputs": [],
   "source": [
    "refpt = []\n",
    "cropping = False\n",
    "green_color = (0, 255, 0)"
   ]
  },
  {
   "cell_type": "code",
   "execution_count": 30,
   "metadata": {},
   "outputs": [],
   "source": [
    "def click_and_crop(event, x, y, flags, param):\n",
    "    global refpt, cropping\n",
    "    refpt_tmp = []\n",
    "    \n",
    "    if event == cv2.EVENT_LBUTTONDOWN:\n",
    "        cropping = True\n",
    "\n",
    "    elif event == cv2.EVENT_LBUTTONUP:\n",
    "        refpt_tmp.append(x)\n",
    "        refpt_tmp.append(y)\n",
    "        \n",
    "        refpt.append(refpt_tmp)\n",
    "        cropping = False\n",
    "\n",
    "        cv2.rectangle(image, (x, y), (x+1, y+1),\n",
    "                     (255, 0, 0), 2)\n",
    "        cv2.imshow(\"image\", image)"
   ]
  },
  {
   "cell_type": "code",
   "execution_count": 31,
   "metadata": {},
   "outputs": [],
   "source": [
    "#ROI poly 이미지를 보여줌\n",
    "def Roi_poly(coordinates):\n",
    "    pt1 = np.array(coordinates, np.int32)\n",
    "    img = cv2.polylines(image, [pt1], True, green_color, 2)\n",
    "    \n",
    "    cv2.imshow(\"polylines\", img)\n",
    "    cv2.waitKey(0)\n",
    "    cv2.destroyAllWindows()"
   ]
  },
  {
   "cell_type": "code",
   "execution_count": 33,
   "metadata": {},
   "outputs": [],
   "source": [
    "#roi를 추출할 사진\n",
    "image = cv2.imread(r'D:\\dataset\\DATA_Python\\endoscope\\cap_endoscope_frame_selected\\cap_endoscope_frame00000.jpg')\n",
    "\n",
    "clone = image.copy()\n",
    "cv2.namedWindow('image')\n",
    "\n",
    "#ROI 추출 \n",
    "while True:\n",
    "    cv2.imshow(\"image\", image)\n",
    "    key = cv2.waitKey(1) & 0xFF\n",
    "    cv2.setMouseCallback('image', click_and_crop)\n",
    "    \n",
    "    #키보드 r을 누르면 기존에 클릭한 점을 초기화시킨다\n",
    "    if key == ord(\"r\"):\n",
    "        image = clone.copy()\n",
    "        global refpt\n",
    "        refpt = []\n",
    "    \n",
    "    #키보드 c를 누르면 ROI를 구해줌\n",
    "    if key == ord(\"c\"):\n",
    "        Roi_poly(refpt)\n",
    "        \n",
    "    #키보드 q를 누르면 나감   \n",
    "    elif key == ord(\"q\"):\n",
    "         break\n",
    "\n",
    "cv2.destroyAllWindows()\n"
   ]
  }
 ],
 "metadata": {
  "kernelspec": {
   "display_name": "Python 3",
   "language": "python",
   "name": "python3"
  },
  "language_info": {
   "codemirror_mode": {
    "name": "ipython",
    "version": 3
   },
   "file_extension": ".py",
   "mimetype": "text/x-python",
   "name": "python",
   "nbconvert_exporter": "python",
   "pygments_lexer": "ipython3",
   "version": "3.7.6"
  }
 },
 "nbformat": 4,
 "nbformat_minor": 4
}
