{
 "cells": [
  {
   "cell_type": "code",
   "execution_count": 2,
   "metadata": {},
   "outputs": [],
   "source": [
    "import numpy as np\n",
    "import cv2\n",
    "import argparse"
   ]
  },
  {
   "cell_type": "code",
   "execution_count": 3,
   "metadata": {},
   "outputs": [],
   "source": [
    "def ROI_SAVE(coordinates, SAVE_PATH, image):\n",
    "    \n",
    "    #좌표를 받아서 배열\n",
    "    pt2 = np.array(coordinates, np.int32)\n",
    "    \n",
    "    #img의 shape를 확인하여 마스크img 생성 준비\n",
    "    height, width, channel = image.shape\n",
    "    back_img = np.zeros((height, width), np.uint8)\n",
    "    \n",
    "    #ROI 색칠 추출\n",
    "    back_img = cv2.fillConvexPoly(back_img, pt2, white_color)\n",
    "    \n",
    "    #ROI save\n",
    "    cv2.imwrite(SAVE_PATH + '{}'.format('00') + '.jpg', back_img) "
   ]
  }
 ],
 "metadata": {
  "kernelspec": {
   "display_name": "Python 3",
   "language": "python",
   "name": "python3"
  },
  "language_info": {
   "codemirror_mode": {
    "name": "ipython",
    "version": 3
   },
   "file_extension": ".py",
   "mimetype": "text/x-python",
   "name": "python",
   "nbconvert_exporter": "python",
   "pygments_lexer": "ipython3",
   "version": "3.7.6"
  }
 },
 "nbformat": 4,
 "nbformat_minor": 4
}
